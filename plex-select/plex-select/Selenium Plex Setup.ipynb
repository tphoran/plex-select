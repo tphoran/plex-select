{
 "cells": [
  {
   "cell_type": "code",
   "execution_count": 3,
   "metadata": {},
   "outputs": [],
   "source": [
    "from selenium import webdriver\n",
    "from selenium.webdriver.common.keys import Keys\n",
    "from selenium.webdriver.common.by import By\n",
    "from selenium.webdriver.support.ui import WebDriverWait\n",
    "from selenium.webdriver.support import expected_conditions as EC"
   ]
  },
  {
   "cell_type": "code",
   "execution_count": 6,
   "metadata": {},
   "outputs": [],
   "source": [
    "options = webdriver.ChromeOptions()\n",
    "\n",
    "chrome_options = webdriver.ChromeOptions()\n",
    "# chrome_options.add_argument('--headless')\n",
    "chrome_options.add_argument('--no-sandbox')\n",
    "chrome_options.add_argument('--disable-dev-shm-usage')\n",
    "driver = webdriver.Chrome(chrome_options=chrome_options)"
   ]
  },
  {
   "cell_type": "code",
   "execution_count": 7,
   "metadata": {},
   "outputs": [],
   "source": [
    "driver.get('http://127.0.0.1:32400/web/index.html')"
   ]
  },
  {
   "cell_type": "code",
   "execution_count": 8,
   "metadata": {},
   "outputs": [],
   "source": [
    "try:\n",
    "    email_login = \\\n",
    "    WebDriverWait(driver, 30).until(\\\n",
    "    EC.presence_of_element_located((By.XPATH, \\\n",
    "    \"//*[contains(text(), 'email')]\")))\n",
    "    email_login.click()\n",
    "except:\n",
    "    print('Login Part 1 Fail')"
   ]
  },
  {
   "cell_type": "code",
   "execution_count": 9,
   "metadata": {},
   "outputs": [],
   "source": [
    "try:\n",
    "    email = WebDriverWait(driver, 30).until(\\\n",
    "    EC.presence_of_element_located((By.ID, \"email\")))\n",
    "    password = WebDriverWait(driver, 30).until(\\\n",
    "    EC.presence_of_element_located((By.ID, \"password\")))\n",
    "    email.send_keys(\"tphoran@gmail.com\")\n",
    "    password.send_keys(\"VBiLfhU9dzVQJ\")\n",
    "    sign_in = \\\n",
    "    WebDriverWait(driver, 30).until(\\\n",
    "    EC.presence_of_element_located((By.XPATH, \\\n",
    "    \"//*[contains(text(), 'Sign in')]\")))\n",
    "    sign_in.click()\n",
    "except:\n",
    "    print('Login Part 2 Fail')"
   ]
  },
  {
   "cell_type": "code",
   "execution_count": 10,
   "metadata": {},
   "outputs": [],
   "source": [
    "try:\n",
    "    got_it = \\\n",
    "    WebDriverWait(driver, 30).until(\\\n",
    "    EC.presence_of_element_located((By.XPATH, \\\n",
    "    \"//*[contains(text(), 'Got it!')]\")))\n",
    "    got_it.click()\n",
    "except:\n",
    "    print('Got It Fail')"
   ]
  },
  {
   "cell_type": "code",
   "execution_count": 11,
   "metadata": {},
   "outputs": [],
   "source": [
    "try:\n",
    "    outside_access_toggle = \\\n",
    "    WebDriverWait(driver, 30).until(\\\n",
    "    EC.presence_of_element_located((By.ID, \\\n",
    "    'PublishServerOnPlexOnlineKey')))\n",
    "    outside_access_toggle.click()\n",
    "except:\n",
    "    print('Outside Access Toggle Fail')"
   ]
  },
  {
   "cell_type": "code",
   "execution_count": 12,
   "metadata": {},
   "outputs": [],
   "source": [
    "try:\n",
    "    server_name = \\\n",
    "    WebDriverWait(driver, 30).until(\\\n",
    "    EC.presence_of_element_located((By.ID, \\\n",
    "    \"FriendlyName\")))\n",
    "    server_name.clear()\n",
    "    server_name.send_keys(\"Monty Python\")\n",
    "    next_button = \\\n",
    "    WebDriverWait(driver, 30).until(\\\n",
    "    EC.presence_of_element_located((By.XPATH, \\\n",
    "    \"//*[contains(text(), 'Next')]\")))\n",
    "    next_button.click()\n",
    "except:\n",
    "    print('Sever Name Fail')"
   ]
  },
  {
   "cell_type": "code",
   "execution_count": 13,
   "metadata": {},
   "outputs": [],
   "source": [
    "try:\n",
    "    add_library = \\\n",
    "    WebDriverWait(driver, 30).until(\\\n",
    "    EC.presence_of_element_located((By.XPATH, \\\n",
    "    \"//*[contains(text(), 'Add Library')]\")))\n",
    "    add_library.click()\n",
    "except:\n",
    "    print('Add Library Fail')"
   ]
  },
  {
   "cell_type": "code",
   "execution_count": 14,
   "metadata": {},
   "outputs": [],
   "source": [
    "try:\n",
    "    movies_option = \\\n",
    "    WebDriverWait(driver, 30).until(\\\n",
    "    EC.presence_of_element_located((By.CLASS_NAME, \\\n",
    "    \"plex-icon-movies-560\")))\n",
    "    movies_option.click()\n",
    "except:\n",
    "    print('Movies Option Fail')"
   ]
  },
  {
   "cell_type": "code",
   "execution_count": 15,
   "metadata": {},
   "outputs": [],
   "source": [
    "try:\n",
    "    next_button = \\\n",
    "    WebDriverWait(driver, 30).until(\\\n",
    "    EC.presence_of_element_located((By.CLASS_NAME, \\\n",
    "    \"save-btn-label-next\")))\n",
    "    next_button.click()\n",
    "except:\n",
    "    print('Next Button Part 1 Fail')"
   ]
  },
  {
   "cell_type": "code",
   "execution_count": 16,
   "metadata": {},
   "outputs": [],
   "source": [
    "try:\n",
    "    add_folder = \\\n",
    "    WebDriverWait(driver, 30).until(\\\n",
    "    EC.presence_of_element_located((By.CLASS_NAME, \\\n",
    "    \"add-folder-btn\")))\n",
    "    add_folder.click()\n",
    "except:\n",
    "    print('Add Folder Fail')"
   ]
  },
  {
   "cell_type": "code",
   "execution_count": 17,
   "metadata": {},
   "outputs": [],
   "source": [
    "try:\n",
    "    movies_folder = \\\n",
    "    WebDriverWait(driver, 30).until(\\\n",
    "    EC.presence_of_element_located((By.LINK_TEXT, \\\n",
    "    \"Movies\")))\n",
    "    movies_folder.click()\n",
    "except:\n",
    "    print('Movie Folder Fail')"
   ]
  },
  {
   "cell_type": "code",
   "execution_count": 18,
   "metadata": {},
   "outputs": [],
   "source": [
    "try:\n",
    "    add_button = \\\n",
    "    WebDriverWait(driver, 30).until(\\\n",
    "    EC.presence_of_element_located((By.CLASS_NAME, \\\n",
    "    \"add-btn\")))\n",
    "    add_button.click()\n",
    "except:\n",
    "    print('Add Button Part 1 Fail')"
   ]
  },
  {
   "cell_type": "code",
   "execution_count": 19,
   "metadata": {},
   "outputs": [],
   "source": [
    "try:\n",
    "    add_button = \\\n",
    "    WebDriverWait(driver, 300).until(\\\n",
    "    EC.presence_of_element_located((By.CLASS_NAME, \\\n",
    "    \"save-btn-label-save\")))\n",
    "    add_button.click()\n",
    "except:\n",
    "    print('Add Button Part 2 Fail')"
   ]
  },
  {
   "cell_type": "code",
   "execution_count": 20,
   "metadata": {},
   "outputs": [],
   "source": [
    "try:\n",
    "    next_button = \\\n",
    "    WebDriverWait(driver, 30).until(\\\n",
    "    EC.presence_of_element_located((By.XPATH, \\\n",
    "    \"//*[contains(text(), 'Next')]\")))\n",
    "    next_button.click()\n",
    "except:\n",
    "    print('Next Button Part 2 Fail')"
   ]
  },
  {
   "cell_type": "code",
   "execution_count": 21,
   "metadata": {},
   "outputs": [],
   "source": [
    "try:\n",
    "    done_button = \\\n",
    "    WebDriverWait(driver, 30).until(\\\n",
    "    EC.presence_of_element_located((By.XPATH, \\\n",
    "    \"//*[contains(text(), 'Done')]\")))\n",
    "    done_button.click()\n",
    "except:\n",
    "    print('Done Button Fail')"
   ]
  },
  {
   "cell_type": "code",
   "execution_count": 22,
   "metadata": {},
   "outputs": [],
   "source": [
    "try:\n",
    "    setting_button = \\\n",
    "    WebDriverWait(driver, 30).until(\\\n",
    "    EC.presence_of_element_located((By.CLASS_NAME, \\\n",
    "    \"plex-icon-navbar-settings-560\")))\n",
    "    setting_button.click()\n",
    "except:\n",
    "    print('Setting Button Fail')"
   ]
  },
  {
   "cell_type": "code",
   "execution_count": 23,
   "metadata": {},
   "outputs": [],
   "source": [
    "try:\n",
    "    remote_button = \\\n",
    "    WebDriverWait(driver, 30).until(\\\n",
    "    EC.presence_of_element_located((By.XPATH, \\\n",
    "    \"//*[contains(text(), 'Remote Access')]\")))\n",
    "    remote_button.click()\n",
    "except:\n",
    "    print('Remote Button Fail')"
   ]
  },
  {
   "cell_type": "code",
   "execution_count": 20,
   "metadata": {},
   "outputs": [],
   "source": [
    "try:\n",
    "    enable_remote_access = \\\n",
    "    WebDriverWait(driver, 30).until(\\\n",
    "    EC.presence_of_element_located((By.XPATH, \\\n",
    "    \"//*[contains(text(), 'Enable Remote Access')]\")))\n",
    "    enable_remote_access.click()\n",
    "except:\n",
    "    print('Enable Remote Access Fail')"
   ]
  },
  {
   "cell_type": "code",
   "execution_count": 21,
   "metadata": {},
   "outputs": [],
   "source": [
    "try:\n",
    "    port_mapping_toggle = \\\n",
    "    WebDriverWait(driver, 300).until(\\\n",
    "    EC.presence_of_element_located((By.ID, \\\n",
    "    'ManualPortMappingMode')))\n",
    "    port_mapping_toggle.click()\n",
    "except:\n",
    "    print('Port Mapping Toggle Fail')"
   ]
  },
  {
   "cell_type": "code",
   "execution_count": 7,
   "metadata": {},
   "outputs": [],
   "source": []
  },
  {
   "cell_type": "code",
   "execution_count": null,
   "metadata": {},
   "outputs": [],
   "source": []
  },
  {
   "cell_type": "code",
   "execution_count": null,
   "metadata": {},
   "outputs": [],
   "source": []
  },
  {
   "cell_type": "code",
   "execution_count": null,
   "metadata": {},
   "outputs": [],
   "source": []
  },
  {
   "cell_type": "code",
   "execution_count": null,
   "metadata": {},
   "outputs": [],
   "source": []
  },
  {
   "cell_type": "code",
   "execution_count": null,
   "metadata": {},
   "outputs": [],
   "source": [
    "# Clean Up"
   ]
  },
  {
   "cell_type": "code",
   "execution_count": null,
   "metadata": {},
   "outputs": [],
   "source": []
  },
  {
   "cell_type": "code",
   "execution_count": 24,
   "metadata": {},
   "outputs": [],
   "source": [
    "try:\n",
    "    setting_button = \\\n",
    "    WebDriverWait(driver, 30).until(\\\n",
    "    EC.presence_of_element_located((By.CLASS_NAME, \\\n",
    "    \"plex-icon-navbar-settings-560\")))\n",
    "    setting_button.click()\n",
    "except:\n",
    "    print('Setting Button Fail')"
   ]
  },
  {
   "cell_type": "code",
   "execution_count": 25,
   "metadata": {},
   "outputs": [],
   "source": [
    "try:\n",
    "    authorized_device_button = \\\n",
    "    WebDriverWait(driver, 30).until(\\\n",
    "    EC.presence_of_element_located((By.XPATH, \\\n",
    "    \"//*[contains(text(), 'Authorized Devices')]\")))\n",
    "    authorized_device_button.click()\n",
    "except:\n",
    "    print('Authorized Devices Button Fail')"
   ]
  },
  {
   "cell_type": "code",
   "execution_count": 26,
   "metadata": {},
   "outputs": [],
   "source": [
    "try:\n",
    "    dropdown_toggle = \\\n",
    "    WebDriverWait(driver, 30).until(\\\n",
    "    EC.presence_of_element_located((By.CLASS_NAME, \\\n",
    "    'dropdown-toggle')))\n",
    "    dropdown_toggle.click()\n",
    "except:\n",
    "    print('Type Drop Down Fail')"
   ]
  },
  {
   "cell_type": "code",
   "execution_count": 27,
   "metadata": {},
   "outputs": [],
   "source": [
    "try:\n",
    "    server_selection = \\\n",
    "    WebDriverWait(driver, 30).until(\\\n",
    "    EC.presence_of_element_located((By.XPATH, \\\n",
    "    \"//*[contains(text(), 'Server')]\")))\n",
    "    server_selection.click()\n",
    "except:\n",
    "    print('Sever Selection Button Fail')"
   ]
  },
  {
   "cell_type": "code",
   "execution_count": 165,
   "metadata": {},
   "outputs": [],
   "source": [
    "check_names = \\\n",
    "WebDriverWait(driver, 30).until(\\\n",
    "EC.presence_of_element_located((By.CLASS_NAME, \\\n",
    "'name')))"
   ]
  },
  {
   "cell_type": "code",
   "execution_count": 169,
   "metadata": {},
   "outputs": [],
   "source": [
    "names = driver.find_elements(By.CLASS_NAME, 'name')"
   ]
  },
  {
   "cell_type": "code",
   "execution_count": 167,
   "metadata": {},
   "outputs": [
    {
     "data": {
      "text/plain": [
       "3"
      ]
     },
     "execution_count": 167,
     "metadata": {},
     "output_type": "execute_result"
    }
   ],
   "source": [
    "remove_buttons = driver.find_elements(By.CLASS_NAME, 'remove-device-btn')"
   ]
  },
  {
   "cell_type": "code",
   "execution_count": 168,
   "metadata": {},
   "outputs": [
    {
     "name": "stdout",
     "output_type": "stream",
     "text": [
      "eliminated_sever\n",
      "eliminated_sever\n"
     ]
    }
   ],
   "source": [
    "import time\n",
    "sever_name = 'Thor'\n",
    "number_to_check = 0\n",
    "while (len(names) > 1) and (len(set(names)) > 1):\n",
    "    if names[number_to_check].text != sever_name:\n",
    "        remove_buttons[number_to_check].click()\n",
    "        time.sleep(3)\n",
    "        remove_button = WebDriverWait(driver, 30).until(\\\n",
    "        EC.presence_of_element_located((By.CLASS_NAME, \\\n",
    "        'confirm-btn')))\n",
    "        remove_button.click()\n",
    "        time.sleep(3)\n",
    "        yes_button = WebDriverWait(driver, 30).until(\\\n",
    "        EC.presence_of_element_located((By.CLASS_NAME, \\\n",
    "        'confirm-btn')))\n",
    "        yes_button.click()\n",
    "        time.sleep(3)\n",
    "        number_to_check = 0\n",
    "        names = driver.find_elements(By.CLASS_NAME, 'name')\n",
    "        remove_buttons = driver.find_elements(By.CLASS_NAME, 'remove-device-btn')\n",
    "        print('eliminated_sever')\n",
    "    else:\n",
    "        number_to_check += 1"
   ]
  },
  {
   "cell_type": "code",
   "execution_count": null,
   "metadata": {},
   "outputs": [],
   "source": []
  },
  {
   "cell_type": "code",
   "execution_count": null,
   "metadata": {},
   "outputs": [],
   "source": []
  },
  {
   "cell_type": "code",
   "execution_count": null,
   "metadata": {},
   "outputs": [],
   "source": []
  },
  {
   "cell_type": "code",
   "execution_count": null,
   "metadata": {},
   "outputs": [],
   "source": []
  },
  {
   "cell_type": "code",
   "execution_count": 58,
   "metadata": {},
   "outputs": [],
   "source": [
    "check_servers = WebDriverWait(driver, 10).until(\\\n",
    "                EC.presence_of_element_located((By.CLASS_NAME, \\\n",
    "                'remove-device-btn')))"
   ]
  },
  {
   "cell_type": "code",
   "execution_count": 91,
   "metadata": {},
   "outputs": [],
   "source": [
    "check_card = WebDriverWait(driver, 10).until(\\\n",
    "                EC.presence_of_element_located((By.CLASS_NAME, \\\n",
    "                'card-details')))"
   ]
  },
  {
   "cell_type": "code",
   "execution_count": 92,
   "metadata": {},
   "outputs": [],
   "source": [
    "cards = driver.find_elements(By.CLASS_NAME, 'card-details')"
   ]
  },
  {
   "cell_type": "code",
   "execution_count": 95,
   "metadata": {},
   "outputs": [
    {
     "name": "stdout",
     "output_type": "stream",
     "text": [
      "2 minutes ago\n",
      "1.13.9.5439-7303bc002\n",
      "Plex Media Server\n",
      "PC\n",
      "Linux 4.15.0-1021-aws (#21-Ubuntu SMP Tue Aug 28 10:23:07 UTC 2018)\n",
      "\n",
      "an hour ago\n",
      "1.13.8.5395-10d48da0d\n",
      "Plex Media Server\n",
      "Mac\n",
      "MacOSX 10.11.6\n",
      "\n"
     ]
    }
   ],
   "source": [
    "for i in cards:\n",
    "    print(i.text)\n",
    "    print()"
   ]
  },
  {
   "cell_type": "code",
   "execution_count": 101,
   "metadata": {},
   "outputs": [],
   "source": [
    "names = driver.find_elements(By.CLASS_NAME, 'name')"
   ]
  },
  {
   "cell_type": "code",
   "execution_count": 108,
   "metadata": {},
   "outputs": [
    {
     "name": "stdout",
     "output_type": "stream",
     "text": [
      "Monty Python\n",
      "\n"
     ]
    }
   ],
   "source": [
    "sever_name = 'Ant-Man'\n",
    "for i in names:\n",
    "    if i.text != sever_name:\n",
    "        print(i.text)\n",
    "        print()"
   ]
  },
  {
   "cell_type": "code",
   "execution_count": 96,
   "metadata": {},
   "outputs": [],
   "source": [
    "servers = driver.find_elements(By.CLASS_NAME, 'remove-device-btn')"
   ]
  },
  {
   "cell_type": "code",
   "execution_count": null,
   "metadata": {},
   "outputs": [],
   "source": [
    "for i in "
   ]
  },
  {
   "cell_type": "code",
   "execution_count": 90,
   "metadata": {},
   "outputs": [
    {
     "name": "stdout",
     "output_type": "stream",
     "text": [
      "<selenium.webdriver.remote.webelement.WebElement (session=\"c10220cf29c324ccc3b1190d0314fe64\", element=\"0.9974646099191018-3\")>\n",
      "<selenium.webdriver.remote.webelement.WebElement (session=\"c10220cf29c324ccc3b1190d0314fe64\", element=\"0.9974646099191018-4\")>\n"
     ]
    }
   ],
   "source": [
    "for i in servers:\n",
    "    print(i)"
   ]
  },
  {
   "cell_type": "code",
   "execution_count": 56,
   "metadata": {},
   "outputs": [],
   "source": [
    "remove_button = WebDriverWait(driver, 10).until(\\\n",
    "                EC.presence_of_element_located((By.CLASS_NAME, \\\n",
    "                'confirm-btn')))\n",
    "remove_button.click()"
   ]
  },
  {
   "cell_type": "code",
   "execution_count": 57,
   "metadata": {},
   "outputs": [],
   "source": [
    "yes_button = WebDriverWait(driver, 10).until(\\\n",
    "             EC.presence_of_element_located((By.CLASS_NAME, \\\n",
    "             'confirm-btn')))\n",
    "yes_button.click()"
   ]
  },
  {
   "cell_type": "code",
   "execution_count": null,
   "metadata": {},
   "outputs": [],
   "source": []
  },
  {
   "cell_type": "code",
   "execution_count": null,
   "metadata": {},
   "outputs": [],
   "source": []
  },
  {
   "cell_type": "code",
   "execution_count": null,
   "metadata": {},
   "outputs": [],
   "source": []
  },
  {
   "cell_type": "code",
   "execution_count": null,
   "metadata": {},
   "outputs": [],
   "source": []
  },
  {
   "cell_type": "code",
   "execution_count": 55,
   "metadata": {},
   "outputs": [],
   "source": [
    "remove_button = \\\n",
    "WebDriverWait(driver, 30).until(\\\n",
    "EC.presence_of_element_located((By.XPATH, \\\n",
    "\"//*[contains(text(), 'Remove')]\")))\n",
    "remove_button.click()"
   ]
  },
  {
   "cell_type": "code",
   "execution_count": 52,
   "metadata": {},
   "outputs": [],
   "source": []
  },
  {
   "cell_type": "code",
   "execution_count": 51,
   "metadata": {},
   "outputs": [
    {
     "data": {
      "text/plain": [
       "[<selenium.webdriver.remote.webelement.WebElement (session=\"c10220cf29c324ccc3b1190d0314fe64\", element=\"0.6935027843863648-7\")>,\n",
       " <selenium.webdriver.remote.webelement.WebElement (session=\"c10220cf29c324ccc3b1190d0314fe64\", element=\"0.6935027843863648-8\")>]"
      ]
     },
     "execution_count": 51,
     "metadata": {},
     "output_type": "execute_result"
    }
   ],
   "source": [
    "servers"
   ]
  },
  {
   "cell_type": "code",
   "execution_count": 39,
   "metadata": {},
   "outputs": [
    {
     "data": {
      "text/plain": [
       "'Tue Aug 28 10:23:07 UTC 2018'"
      ]
     },
     "execution_count": 39,
     "metadata": {},
     "output_type": "execute_result"
    }
   ],
   "source": [
    "servers[0].text.split(\"Ubuntu SMP \")[1][:-1]"
   ]
  },
  {
   "cell_type": "code",
   "execution_count": null,
   "metadata": {},
   "outputs": [],
   "source": []
  },
  {
   "cell_type": "code",
   "execution_count": null,
   "metadata": {},
   "outputs": [],
   "source": [
    "email = driver.find_element_by_id(\"email\")\n",
    "password = driver.find_element_by_id(\"password\")\n",
    "email.send_keys(\"tphoran@gmail.com\")\n",
    "password.send_keys(\"VBiLfhU9dzVQJ\")"
   ]
  },
  {
   "cell_type": "code",
   "execution_count": null,
   "metadata": {},
   "outputs": [],
   "source": [
    "sign_in = driver.find_elements_by_xpath(\"//*[contains(text(), 'Sign in')]\")[0]\n",
    "sign_in.click()"
   ]
  },
  {
   "cell_type": "code",
   "execution_count": null,
   "metadata": {},
   "outputs": [],
   "source": [
    "632 - 641"
   ]
  },
  {
   "cell_type": "code",
   "execution_count": null,
   "metadata": {},
   "outputs": [],
   "source": [
    "656 - 702"
   ]
  },
  {
   "cell_type": "code",
   "execution_count": null,
   "metadata": {},
   "outputs": [],
   "source": [
    "email_login.click()"
   ]
  },
  {
   "cell_type": "code",
   "execution_count": null,
   "metadata": {},
   "outputs": [],
   "source": [
    "try:\n",
    "    email_login = WebDriverWait(driver, 10).until(EC.presence_of_element_located((By.XPATH, \"//*[contains(text(), 'email')]\")))\n",
    "    print('Test')\n",
    "    email_login.click()\n",
    "finally:\n",
    "    driver.quit()"
   ]
  },
  {
   "cell_type": "code",
   "execution_count": null,
   "metadata": {},
   "outputs": [],
   "source": [
    "for i in range(1, 4):\n",
    "    print(i)"
   ]
  },
  {
   "cell_type": "code",
   "execution_count": null,
   "metadata": {},
   "outputs": [],
   "source": [
    "input_list = ['file.py', 'Monty', 'Python', 'Holy']"
   ]
  },
  {
   "cell_type": "code",
   "execution_count": null,
   "metadata": {},
   "outputs": [],
   "source": [
    "server_title = ''\n",
    "for i in range(1, len(input_list)):\n",
    "    server_title += input_list[i]+' '\n",
    "print(server_title)"
   ]
  },
  {
   "cell_type": "code",
   "execution_count": null,
   "metadata": {},
   "outputs": [],
   "source": [
    "735 - 742"
   ]
  },
  {
   "cell_type": "code",
   "execution_count": null,
   "metadata": {},
   "outputs": [],
   "source": []
  },
  {
   "cell_type": "code",
   "execution_count": null,
   "metadata": {},
   "outputs": [],
   "source": []
  },
  {
   "cell_type": "code",
   "execution_count": null,
   "metadata": {},
   "outputs": [],
   "source": [
    "import time\n",
    "from selenium import webdriver\n",
    "from selenium.webdriver.common.keys import Keys\n",
    "from selenium.webdriver.common.by import By"
   ]
  },
  {
   "cell_type": "code",
   "execution_count": null,
   "metadata": {},
   "outputs": [],
   "source": [
    "driver = webdriver.Chrome()"
   ]
  },
  {
   "cell_type": "code",
   "execution_count": null,
   "metadata": {},
   "outputs": [],
   "source": [
    "# driver.get('https://www.plex.tv/sign-in/?forward=https://www.plex.tv/')\n",
    "driver.get('http://127.0.0.1:32400/web/index.html')\n",
    "time.sleep(3)"
   ]
  },
  {
   "cell_type": "code",
   "execution_count": null,
   "metadata": {},
   "outputs": [],
   "source": [
    "elem = driver.find_elements_by_xpath(\"//*[contains(text(), 'email')]\")[0]"
   ]
  },
  {
   "cell_type": "code",
   "execution_count": null,
   "metadata": {},
   "outputs": [],
   "source": [
    "elem.click()\n",
    "time.sleep(3)"
   ]
  },
  {
   "cell_type": "code",
   "execution_count": null,
   "metadata": {},
   "outputs": [],
   "source": [
    "email = driver.find_element_by_id(\"email\")\n",
    "password = driver.find_element_by_id(\"password\")"
   ]
  },
  {
   "cell_type": "code",
   "execution_count": null,
   "metadata": {},
   "outputs": [],
   "source": [
    "email.send_keys(\"tphoran@gmail.com\")"
   ]
  },
  {
   "cell_type": "code",
   "execution_count": null,
   "metadata": {},
   "outputs": [],
   "source": [
    "password.send_keys(\"VBiLfhU9dzVQJ\")"
   ]
  },
  {
   "cell_type": "code",
   "execution_count": null,
   "metadata": {},
   "outputs": [],
   "source": [
    "sign_in = driver.find_elements_by_xpath(\"//*[contains(text(), 'Sign in')]\")[0]"
   ]
  },
  {
   "cell_type": "code",
   "execution_count": null,
   "metadata": {},
   "outputs": [],
   "source": [
    "sign_in.click()\n",
    "time.sleep(5)"
   ]
  },
  {
   "cell_type": "code",
   "execution_count": null,
   "metadata": {},
   "outputs": [],
   "source": [
    "got_it = driver.find_elements_by_xpath(\"//*[contains(text(), 'Got it!')]\")[0]"
   ]
  },
  {
   "cell_type": "code",
   "execution_count": null,
   "metadata": {},
   "outputs": [],
   "source": [
    "got_it.click()\n",
    "time.sleep(30)"
   ]
  },
  {
   "cell_type": "code",
   "execution_count": null,
   "metadata": {},
   "outputs": [],
   "source": [
    "server_name = driver.find_element_by_id(\"FriendlyName\")"
   ]
  },
  {
   "cell_type": "code",
   "execution_count": null,
   "metadata": {},
   "outputs": [],
   "source": [
    "server_name.clear()"
   ]
  },
  {
   "cell_type": "code",
   "execution_count": null,
   "metadata": {},
   "outputs": [],
   "source": [
    "server_name.send_keys(\"Monty Python\")"
   ]
  },
  {
   "cell_type": "code",
   "execution_count": null,
   "metadata": {},
   "outputs": [],
   "source": [
    "next_button = driver.find_elements_by_xpath(\"//*[contains(text(), 'Next')]\")[0]"
   ]
  },
  {
   "cell_type": "code",
   "execution_count": null,
   "metadata": {},
   "outputs": [],
   "source": [
    "next_button.click()\n",
    "time.sleep(30)"
   ]
  },
  {
   "cell_type": "code",
   "execution_count": null,
   "metadata": {},
   "outputs": [],
   "source": [
    "add_library = driver.find_elements_by_xpath(\"//*[contains(text(), 'Add Library')]\")[0]"
   ]
  },
  {
   "cell_type": "code",
   "execution_count": null,
   "metadata": {},
   "outputs": [],
   "source": [
    "add_library.click()\n",
    "time.sleep(30)"
   ]
  },
  {
   "cell_type": "code",
   "execution_count": null,
   "metadata": {},
   "outputs": [],
   "source": [
    "movies_option = driver.find_element_by_class_name(\"plex-icon-movies-560\")"
   ]
  },
  {
   "cell_type": "code",
   "execution_count": null,
   "metadata": {},
   "outputs": [],
   "source": [
    "movies_option.click()\n",
    "time.sleep(10)"
   ]
  },
  {
   "cell_type": "code",
   "execution_count": null,
   "metadata": {},
   "outputs": [],
   "source": [
    "next_button = driver.find_element_by_class_name(\"save-btn-label-next\")"
   ]
  },
  {
   "cell_type": "code",
   "execution_count": null,
   "metadata": {},
   "outputs": [],
   "source": [
    "next_button.click()\n",
    "time.sleep(30)"
   ]
  },
  {
   "cell_type": "code",
   "execution_count": null,
   "metadata": {},
   "outputs": [],
   "source": [
    "add_folder = driver.find_element_by_class_name(\"add-folder-btn\")"
   ]
  },
  {
   "cell_type": "code",
   "execution_count": null,
   "metadata": {},
   "outputs": [],
   "source": [
    "add_folder.click()\n",
    "time.sleep(10)"
   ]
  },
  {
   "cell_type": "code",
   "execution_count": null,
   "metadata": {},
   "outputs": [],
   "source": [
    "movies_folder = driver.find_elements_by_link_text(\"Movies\")[0]"
   ]
  },
  {
   "cell_type": "code",
   "execution_count": null,
   "metadata": {},
   "outputs": [],
   "source": [
    "movies_folder.click()\n",
    "time.sleep(10)"
   ]
  },
  {
   "cell_type": "code",
   "execution_count": null,
   "metadata": {},
   "outputs": [],
   "source": [
    "add_button = driver.find_element_by_class_name(\"add-btn\")"
   ]
  },
  {
   "cell_type": "code",
   "execution_count": null,
   "metadata": {},
   "outputs": [],
   "source": [
    "add_button.click()\n",
    "time.sleep(10)"
   ]
  },
  {
   "cell_type": "code",
   "execution_count": null,
   "metadata": {},
   "outputs": [],
   "source": [
    "add_button = driver.find_element_by_class_name(\"save-btn-label-save\")"
   ]
  },
  {
   "cell_type": "code",
   "execution_count": null,
   "metadata": {},
   "outputs": [],
   "source": [
    "add_button.click()\n",
    "time.sleep(10)"
   ]
  },
  {
   "cell_type": "code",
   "execution_count": null,
   "metadata": {},
   "outputs": [],
   "source": [
    "next_button = driver.find_elements_by_xpath(\"//*[contains(text(), 'Next')]\")[0]"
   ]
  },
  {
   "cell_type": "code",
   "execution_count": null,
   "metadata": {},
   "outputs": [],
   "source": [
    "next_button.click()\n",
    "time.sleep(10)"
   ]
  },
  {
   "cell_type": "code",
   "execution_count": null,
   "metadata": {},
   "outputs": [],
   "source": [
    "done_button = driver.find_elements_by_xpath(\"//*[contains(text(), 'Done')]\")[0]"
   ]
  },
  {
   "cell_type": "code",
   "execution_count": null,
   "metadata": {},
   "outputs": [],
   "source": [
    "done_button.click()\n",
    "time.sleep(10)"
   ]
  },
  {
   "cell_type": "code",
   "execution_count": null,
   "metadata": {},
   "outputs": [],
   "source": [
    "setting_button = driver.find_element_by_class_name(\"plex-icon-navbar-settings-560\")"
   ]
  },
  {
   "cell_type": "code",
   "execution_count": null,
   "metadata": {},
   "outputs": [],
   "source": [
    "setting_button.click()"
   ]
  },
  {
   "cell_type": "code",
   "execution_count": null,
   "metadata": {},
   "outputs": [],
   "source": [
    "remote_button = driver.find_elements_by_xpath(\"//*[contains(text(), 'Remote Access')]\")[0]"
   ]
  },
  {
   "cell_type": "code",
   "execution_count": null,
   "metadata": {},
   "outputs": [],
   "source": [
    "remote_button.click()"
   ]
  },
  {
   "cell_type": "code",
   "execution_count": null,
   "metadata": {},
   "outputs": [],
   "source": [
    "port_mapping_toggle = driver.find_element_by_name('ManualPortMappingMode')"
   ]
  },
  {
   "cell_type": "code",
   "execution_count": null,
   "metadata": {},
   "outputs": [],
   "source": [
    "port_mapping_toggle.click()"
   ]
  },
  {
   "cell_type": "code",
   "execution_count": null,
   "metadata": {},
   "outputs": [],
   "source": [
    "retry_button = driver.find_elements_by_xpath(\"//*[contains(text(), 'Retry')]\")[0]"
   ]
  },
  {
   "cell_type": "code",
   "execution_count": null,
   "metadata": {},
   "outputs": [],
   "source": [
    "retry_button.click()"
   ]
  },
  {
   "cell_type": "code",
   "execution_count": null,
   "metadata": {},
   "outputs": [],
   "source": []
  }
 ],
 "metadata": {
  "kernelspec": {
   "display_name": "Python 3",
   "language": "python",
   "name": "python3"
  },
  "language_info": {
   "codemirror_mode": {
    "name": "ipython",
    "version": 3
   },
   "file_extension": ".py",
   "mimetype": "text/x-python",
   "name": "python",
   "nbconvert_exporter": "python",
   "pygments_lexer": "ipython3",
   "version": "3.5.5"
  }
 },
 "nbformat": 4,
 "nbformat_minor": 2
}
