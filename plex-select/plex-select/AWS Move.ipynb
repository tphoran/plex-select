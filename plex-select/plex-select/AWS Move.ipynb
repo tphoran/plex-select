{
 "cells": [
  {
   "cell_type": "code",
   "execution_count": 1,
   "metadata": {},
   "outputs": [],
   "source": [
    "import boto3\n",
    "import os"
   ]
  },
  {
   "cell_type": "code",
   "execution_count": 2,
   "metadata": {},
   "outputs": [],
   "source": [
    "s3 = boto3.resource('s3')"
   ]
  },
  {
   "cell_type": "code",
   "execution_count": null,
   "metadata": {},
   "outputs": [],
   "source": [
    "directory_list = os.listdir(path='/Volumes/Backup/Media/Movies')\n",
    "movie_list = []\n",
    "for i in directory_list:\n",
    "    if i[0]!='.':\n",
    "        movie_list.append(i)"
   ]
  },
  {
   "cell_type": "code",
   "execution_count": null,
   "metadata": {},
   "outputs": [],
   "source": [
    "directory_list = os.listdir(path='/Volumes/Backup/Media/South Park')\n",
    "south_park_list = []\n",
    "for i in directory_list:\n",
    "    if i[0]!='.':\n",
    "        south_park_list.append(i)"
   ]
  },
  {
   "cell_type": "code",
   "execution_count": null,
   "metadata": {},
   "outputs": [],
   "source": [
    "south_park_list"
   ]
  },
  {
   "cell_type": "code",
   "execution_count": null,
   "metadata": {},
   "outputs": [],
   "source": [
    "directory_list = os.listdir(path='/Volumes/Backup/Media/Its Always Sunny in Philadelphia')\n",
    "sunny_list = []\n",
    "for i in directory_list:\n",
    "    if i[0]!='.':\n",
    "        sunny_list.append(i)"
   ]
  },
  {
   "cell_type": "code",
   "execution_count": null,
   "metadata": {},
   "outputs": [],
   "source": [
    "sunny_list"
   ]
  },
  {
   "cell_type": "code",
   "execution_count": null,
   "metadata": {},
   "outputs": [],
   "source": [
    "def build_s3_movies_list():\n",
    "    s3 = boto3.resource('s3')\n",
    "    s3_movie_list = []\n",
    "    object_summary_iterator = s3.Bucket('manny-and-meche-plex').objects.all()\n",
    "    for i in object_summary_iterator:\n",
    "        if ('Movies/' in i.key) and (i.key!='Movies/'):\n",
    "            s3_movie_list.append(i.key[7:])\n",
    "    return s3_movie_list"
   ]
  },
  {
   "cell_type": "code",
   "execution_count": null,
   "metadata": {},
   "outputs": [],
   "source": [
    "s3_movie_list = build_s3_movies_list()"
   ]
  },
  {
   "cell_type": "code",
   "execution_count": null,
   "metadata": {},
   "outputs": [],
   "source": [
    "def build_s3_tv_list(folder):\n",
    "    s3 = boto3.resource('s3')\n",
    "    s3_tv_list = []\n",
    "    object_summary_iterator = s3.Bucket('manny-and-meche-plex').objects.all()\n",
    "    for i in object_summary_iterator:\n",
    "        if (folder in i.key) and (i.key!=folder):\n",
    "            s3_tv_list.append(i.key[len(folder):])\n",
    "    return s3_tv_list"
   ]
  },
  {
   "cell_type": "code",
   "execution_count": null,
   "metadata": {},
   "outputs": [],
   "source": [
    "s3_tv_list = build_s3_tv_list('Television/South Park/')"
   ]
  },
  {
   "cell_type": "code",
   "execution_count": null,
   "metadata": {},
   "outputs": [],
   "source": [
    "s3_tv_list"
   ]
  },
  {
   "cell_type": "code",
   "execution_count": null,
   "metadata": {},
   "outputs": [],
   "source": [
    "s3_tv_list = build_s3_tv_list('Television/Its Always Sunny in Philadelphia/')"
   ]
  },
  {
   "cell_type": "code",
   "execution_count": null,
   "metadata": {},
   "outputs": [],
   "source": [
    "s3_tv_list"
   ]
  },
  {
   "cell_type": "code",
   "execution_count": null,
   "metadata": {},
   "outputs": [],
   "source": [
    "# for i in movie_list:\n",
    "#     if i not in s3_movie_list:\n",
    "#         file_path = '/Volumes/Backup/Media/Movies/'+i\n",
    "#         data = open(file_path, 'rb')\n",
    "#         s3.Bucket('manny-and-meche-plex').put_object(Key='Movies/'+i, \\\n",
    "#                                                      Body=data, \\\n",
    "#                                                      StorageClass='ONEZONE_IA',)\n",
    "#         print('Added '+i)\n",
    "#         s3_movie_list = build_s3_movies_list()\n",
    "#     else:\n",
    "#         print('Already have '+i)"
   ]
  },
  {
   "cell_type": "code",
   "execution_count": null,
   "metadata": {},
   "outputs": [],
   "source": [
    "for i in movie_list:\n",
    "    if i not in s3_movie_list:\n",
    "        try:\n",
    "            s3 = boto3.resource('s3')\n",
    "            file_path = '/Volumes/Backup/Media/Movies/'+i\n",
    "            data = open(file_path, 'rb')\n",
    "            s3.Bucket('manny-and-meche-plex').put_object(Key='Movies/'+i, \\\n",
    "                                                         Body=data, \\\n",
    "                                                         StorageClass='ONEZONE_IA',\n",
    "                                                         Metadata={\n",
    "                                                             'year': 'string'\n",
    "                                                         },)\n",
    "            print('Added '+i)\n",
    "            s3_movie_list = build_s3_movies_list()\n",
    "        except:\n",
    "            s3 = boto3.client('s3')\n",
    "            s3.upload_file('/Volumes/Backup/Media/Movies/'+i, \\\n",
    "                           'manny-and-meche-plex', \\\n",
    "                           'Movies/'+i)\n",
    "            print('Added Big File '+i)\n",
    "            s3_movie_list = build_s3_movies_list()\n",
    "    else:\n",
    "        print('Already have '+i)"
   ]
  },
  {
   "cell_type": "code",
   "execution_count": null,
   "metadata": {},
   "outputs": [],
   "source": [
    "for i in south_park_list:\n",
    "    if i not in s3_tv_list:\n",
    "        try:\n",
    "            s3 = boto3.resource('s3')\n",
    "            file_path = '/Volumes/Backup/Media/South Park/'+i\n",
    "            data = open(file_path, 'rb')\n",
    "            s3.Bucket('manny-and-meche-plex').put_object(Key='Television/South Park/'+i, \\\n",
    "                                                         Body=data, \\\n",
    "                                                         StorageClass='ONEZONE_IA',)\n",
    "            print('Added '+i)\n",
    "            s3_tv_list = build_s3_tv_list('Television/South Park/')\n",
    "        except:\n",
    "            s3 = boto3.client('s3')\n",
    "            s3.upload_file('/Volumes/Backup/Media/South Park/'+i, \\\n",
    "                           'manny-and-meche-plex', \\\n",
    "                           'Television/South Park/'+i)\n",
    "            print('Added Big File '+i)\n",
    "            s3_tv_list = build_s3_tv_list('Television/South Park/')\n",
    "    else:\n",
    "        print('Already have '+i)"
   ]
  },
  {
   "cell_type": "code",
   "execution_count": null,
   "metadata": {
    "scrolled": true
   },
   "outputs": [],
   "source": [
    "for i in sunny_list:\n",
    "    if i not in s3_tv_list:\n",
    "        try:\n",
    "            s3 = boto3.resource('s3')\n",
    "            file_path = '/Volumes/Backup/Media/Its Always Sunny in Philadelphia/'+i\n",
    "            data = open(file_path, 'rb')\n",
    "            s3.Bucket('manny-and-meche-plex').put_object(Key='Television/Its Always Sunny in Philadelphia/'+i, \\\n",
    "                                                         Body=data, \\\n",
    "                                                         StorageClass='ONEZONE_IA',)\n",
    "            print('Added '+i)\n",
    "            s3_tv_list = build_s3_tv_list('Television/Its Always Sunny in Philadelphia/')\n",
    "        except:\n",
    "            s3 = boto3.client('s3')\n",
    "            s3.upload_file('/Volumes/Backup/Media/Its Always Sunny in Philadelphia/'+i, \\\n",
    "                           'manny-and-meche-plex', \\\n",
    "                           'Television/Its Always Sunny in Philadelphia/'+i)\n",
    "            print('Added Big File '+i)\n",
    "            s3_tv_list = build_s3_tv_list('Television/Its Always Sunny in Philadelphia/')\n",
    "    else:\n",
    "        print('Already have '+i)"
   ]
  },
  {
   "cell_type": "code",
   "execution_count": null,
   "metadata": {},
   "outputs": [],
   "source": [
    "# s3 = boto3.client('s3')\n",
    "# s3.upload_file('/Volumes/Backup/Media/Movies/Lord of the Rings - The Two Towers.m4v', \\\n",
    "#                'manny-and-meche-plex', \\\n",
    "#                'Movies/Lord of the Rings - The Two Towers.m4v.m4v')"
   ]
  },
  {
   "cell_type": "code",
   "execution_count": null,
   "metadata": {},
   "outputs": [],
   "source": []
  }
 ],
 "metadata": {
  "kernelspec": {
   "display_name": "Python 3",
   "language": "python",
   "name": "python3"
  },
  "language_info": {
   "codemirror_mode": {
    "name": "ipython",
    "version": 3
   },
   "file_extension": ".py",
   "mimetype": "text/x-python",
   "name": "python",
   "nbconvert_exporter": "python",
   "pygments_lexer": "ipython3",
   "version": "3.5.6"
  }
 },
 "nbformat": 4,
 "nbformat_minor": 2
}
