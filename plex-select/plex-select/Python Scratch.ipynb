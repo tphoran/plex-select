{
 "cells": [
  {
   "cell_type": "code",
   "execution_count": null,
   "metadata": {},
   "outputs": [],
   "source": [
    "import requests\n",
    "\n",
    "user_agent_url = 'https://www.chicagofed.org/~/media/others/banking/financial-institution-reports/merger-files/bankmergerdata-xml.xml?la=en'\n",
    "xml_data_banks = requests.get(user_agent_url).content\n",
    "\n",
    "user_agent_url = 'https://www.chicagofed.org/~/media/others/banking/financial-institution-reports/merger-files/bhcmergerdata-xml.xml?la=en'\n",
    "xml_data_bhc = requests.get(user_agent_url).content"
   ]
  },
  {
   "cell_type": "code",
   "execution_count": null,
   "metadata": {},
   "outputs": [],
   "source": [
    "import xml.etree.ElementTree as ET\n",
    "import pandas as pd\n",
    "import matplotlib.pyplot as plt"
   ]
  },
  {
   "cell_type": "code",
   "execution_count": null,
   "metadata": {},
   "outputs": [],
   "source": [
    "class XML2DataFrame:\n",
    "\n",
    "    def __init__(self, xml_data):\n",
    "        self.root = ET.XML(xml_data)\n",
    "\n",
    "    def parse_root(self, root):\n",
    "        return [self.parse_element(child) for child in iter(root)]\n",
    "\n",
    "    def parse_element(self, element, parsed=None):\n",
    "        if parsed is None:\n",
    "            parsed = dict()\n",
    "        for key in element.keys():\n",
    "            parsed[key] = element.attrib.get(key)\n",
    "        if element.text:\n",
    "            parsed[element.tag] = element.text\n",
    "        for child in list(element):\n",
    "            self.parse_element(child, parsed)\n",
    "        return parsed\n",
    "\n",
    "    def process_data(self):\n",
    "        structure_data = self.parse_root(self.root)\n",
    "        return pd.DataFrame(structure_data)"
   ]
  },
  {
   "cell_type": "code",
   "execution_count": null,
   "metadata": {},
   "outputs": [],
   "source": [
    "xml2df_banks = XML2DataFrame(xml_data_banks)\n",
    "xml_df_banks = xml2df_banks.process_data()\n",
    "\n",
    "xml2df_bhc = XML2DataFrame(xml_data_bhc)\n",
    "xml_df_bhc = xml2df_bhc.process_data()"
   ]
  },
  {
   "cell_type": "code",
   "execution_count": null,
   "metadata": {},
   "outputs": [],
   "source": [
    "xml_df_banks.head()"
   ]
  },
  {
   "cell_type": "code",
   "execution_count": null,
   "metadata": {},
   "outputs": [],
   "source": [
    "xml_df_banks_merge = xml_df_banks.drop(['BANK_MERGER'], axis=1).copy()\n",
    "xml_df_banks_merge['Merger_Type'] = 'Bank'"
   ]
  },
  {
   "cell_type": "code",
   "execution_count": null,
   "metadata": {},
   "outputs": [],
   "source": [
    "xml_df_banks_merge.head()"
   ]
  },
  {
   "cell_type": "code",
   "execution_count": null,
   "metadata": {},
   "outputs": [],
   "source": [
    "xml_df_bhc.head()"
   ]
  },
  {
   "cell_type": "code",
   "execution_count": null,
   "metadata": {},
   "outputs": [],
   "source": [
    "xml_df_bhc_merge = xml_df_bhc.drop(['BHC_MERGER'], axis=1).copy()\n",
    "xml_df_bhc_merge['Merger_Type'] = 'BHC'"
   ]
  },
  {
   "cell_type": "code",
   "execution_count": null,
   "metadata": {},
   "outputs": [],
   "source": [
    "xml_df_bhc_merge.head()"
   ]
  },
  {
   "cell_type": "code",
   "execution_count": null,
   "metadata": {
    "scrolled": false
   },
   "outputs": [],
   "source": [
    "df_bhc_banks = pd.concat([xml_df_banks_merge, xml_df_bhc_merge])"
   ]
  },
  {
   "cell_type": "code",
   "execution_count": null,
   "metadata": {},
   "outputs": [],
   "source": [
    "df_bhc_banks.head()"
   ]
  },
  {
   "cell_type": "code",
   "execution_count": null,
   "metadata": {},
   "outputs": [],
   "source": [
    "df_bhc_banks['merge_year'] = df_bhc_banks.apply(lambda x: x['MERGE_DT'][:5], axis=1)\n",
    "df_bhc_banks['merge_month'] = df_bhc_banks.apply(lambda x: x['MERGE_DT'][5:7], axis=1)\n",
    "print(df_bhc_banks['merge_year'][0])\n",
    "print(df_bhc_banks['merge_month'][0])"
   ]
  },
  {
   "cell_type": "code",
   "execution_count": null,
   "metadata": {},
   "outputs": [],
   "source": [
    "df_bhc_banks.to_csv('bank_bhc_merger_data.csv')"
   ]
  },
  {
   "cell_type": "code",
   "execution_count": null,
   "metadata": {},
   "outputs": [],
   "source": [
    "grouped_by_year = df_bhc_banks.groupby(['merge_year']).size().reset_index()\n",
    "grouped_by_year"
   ]
  },
  {
   "cell_type": "code",
   "execution_count": null,
   "metadata": {},
   "outputs": [],
   "source": [
    "grouped_by_survivor = df_bhc_banks.groupby(['SURV_NM']).size().reset_index().copy()\n",
    "grouped_by_survivor.sort_values(by=[0], ascending=False)[:50]"
   ]
  },
  {
   "cell_type": "code",
   "execution_count": null,
   "metadata": {},
   "outputs": [],
   "source": [
    "grouped_by_non_survivor = df_bhc_banks.groupby(['NON_SURV']).size().reset_index().copy()\n",
    "grouped_by_non_survivor.sort_values(by=[0], ascending=False)[:50]"
   ]
  },
  {
   "cell_type": "code",
   "execution_count": null,
   "metadata": {},
   "outputs": [],
   "source": [
    "trillion_banks_list = []\n",
    "trillion_mapping = {}\n",
    "for i in grouped_by_survivor['SURV_NM']:\n",
    "    if \"JP\" in i:\n",
    "        trillion_banks_list.append(i)\n",
    "        trillion_mapping[i] = 'JP MORGAN CHASE'\n",
    "    elif \"WELLS FARGO\" in i:\n",
    "        trillion_banks_list.append(i)\n",
    "        trillion_mapping[i] = 'WELLS FARGO'\n",
    "    elif \"CITIBANK\" in i:\n",
    "        trillion_banks_list.append(i)\n",
    "        trillion_mapping[i] = 'CITIBANK'\n",
    "    elif \"CITI-BANCSHARES\" in i:\n",
    "        trillion_banks_list.append(i)\n",
    "        trillion_mapping[i] = 'CITIBANK'\n",
    "    elif \"BANK OF AMERICA\" in i:\n",
    "        trillion_banks_list.append(i)\n",
    "        trillion_mapping[i] = 'BANK OF AMERICA'\n",
    "    elif \"BANKAMERICA\" in i:\n",
    "        trillion_banks_list.append(i)\n",
    "        trillion_mapping[i] = 'BANK OF AMERICA'\n",
    "    elif \"NATIONSBANK\" in i:\n",
    "        trillion_banks_list.append(i)\n",
    "        trillion_mapping[i] = 'BANK OF AMERICA'"
   ]
  },
  {
   "cell_type": "code",
   "execution_count": null,
   "metadata": {},
   "outputs": [],
   "source": [
    "for i in grouped_by_non_survivor['NON_SURV']:\n",
    "    if \"JP\" in i:\n",
    "        trillion_banks_list.append(i)\n",
    "    elif \"WELLS FARGO\" in i:\n",
    "        trillion_banks_list.append(i)\n",
    "    elif \"CITIBANK\" in i:\n",
    "        trillion_banks_list.append(i)\n",
    "    elif \"CITI-BANCSHARES\" in i:\n",
    "        trillion_banks_list.append(i)\n",
    "    elif \"BANK OF AMERICA\" in i:\n",
    "        trillion_banks_list.append(i)\n",
    "    elif \"BANKAMERICA\" in i:\n",
    "        trillion_banks_list.append(i)\n",
    "    elif \"NATIONSBANK\" in i:\n",
    "        trillion_banks_list.append(i)"
   ]
  },
  {
   "cell_type": "code",
   "execution_count": null,
   "metadata": {},
   "outputs": [],
   "source": [
    "trillion_banks_list"
   ]
  },
  {
   "cell_type": "code",
   "execution_count": null,
   "metadata": {},
   "outputs": [],
   "source": [
    "subset_df = df_bhc_banks[df_bhc_banks['SURV_NM'].isin(trillion_banks_list)]\n",
    "subset_df"
   ]
  },
  {
   "cell_type": "code",
   "execution_count": null,
   "metadata": {},
   "outputs": [],
   "source": [
    "subset_df = subset_df[~subset_df['NON_SURV'].isin(trillion_banks_list)].copy()\n",
    "subset_df"
   ]
  },
  {
   "cell_type": "code",
   "execution_count": null,
   "metadata": {},
   "outputs": [],
   "source": [
    "subset_df['NEW_SURV_NM'] = subset_df['SURV_NM'].map(trillion_mapping)"
   ]
  },
  {
   "cell_type": "code",
   "execution_count": null,
   "metadata": {},
   "outputs": [],
   "source": [
    "subset_df"
   ]
  },
  {
   "cell_type": "code",
   "execution_count": null,
   "metadata": {
    "scrolled": true
   },
   "outputs": [],
   "source": [
    "subset_df = subset_df.sort_values(by=['MERGE_DT']).reset_index()"
   ]
  },
  {
   "cell_type": "code",
   "execution_count": null,
   "metadata": {},
   "outputs": [],
   "source": [
    "subset_df"
   ]
  },
  {
   "cell_type": "code",
   "execution_count": null,
   "metadata": {},
   "outputs": [],
   "source": [
    "len(subset_df)"
   ]
  },
  {
   "cell_type": "code",
   "execution_count": null,
   "metadata": {},
   "outputs": [],
   "source": [
    "subset_df.columns"
   ]
  },
  {
   "cell_type": "code",
   "execution_count": null,
   "metadata": {},
   "outputs": [],
   "source": [
    "import networkx as nx"
   ]
  },
  {
   "cell_type": "code",
   "execution_count": null,
   "metadata": {},
   "outputs": [],
   "source": [
    "G = nx.Graph()"
   ]
  },
  {
   "cell_type": "code",
   "execution_count": null,
   "metadata": {},
   "outputs": [],
   "source": [
    "# for i in range(len(df_bhc_banks)):\n",
    "list_of_non_surviving_banks = []\n",
    "for i in range(len(subset_df)):\n",
    "    non_surviving = subset_df['NON_SURV'][i]\n",
    "    list_of_non_surviving_banks.append(non_surviving)\n",
    "    surviving = subset_df['NEW_SURV_NM'][i]\n",
    "    G.add_edge(non_surviving, surviving)"
   ]
  },
  {
   "cell_type": "code",
   "execution_count": null,
   "metadata": {},
   "outputs": [],
   "source": [
    "list_of_non_surviving_banks"
   ]
  },
  {
   "cell_type": "code",
   "execution_count": null,
   "metadata": {},
   "outputs": [],
   "source": [
    "color_list = []\n",
    "for i in list(G.nodes):\n",
    "    if i in list_of_non_surviving_banks:\n",
    "        color_list.append('red')\n",
    "    else:\n",
    "        color_list.append('green')"
   ]
  },
  {
   "cell_type": "code",
   "execution_count": null,
   "metadata": {},
   "outputs": [],
   "source": [
    "print(len(color_list))\n",
    "print(len(list_of_non_surviving_banks))\n",
    "print(len(list(G.nodes)))"
   ]
  },
  {
   "cell_type": "code",
   "execution_count": null,
   "metadata": {},
   "outputs": [],
   "source": [
    "from bokeh.io import show, output_file\n",
    "from bokeh.models import Plot, Range1d, MultiLine, Circle, HoverTool, TapTool, BoxSelectTool, WheelZoomTool, PanTool, ResetTool\n",
    "from bokeh.models.graphs import from_networkx, NodesAndLinkedEdges, EdgesAndLinkedNodes\n",
    "from bokeh.palettes import Spectral4"
   ]
  },
  {
   "cell_type": "code",
   "execution_count": null,
   "metadata": {},
   "outputs": [],
   "source": [
    "plot = Plot(plot_width=800, plot_height=800,\n",
    "            x_range=Range1d(-1.1,1.1), y_range=Range1d(-1.1,1.1))\n",
    "plot.title.text = \"Graph Interaction Demonstration\"\n",
    "\n",
    "\n",
    "\n",
    "hover = HoverTool(tooltips=[(\"Bank:\", \"@name\")])\n",
    "\n",
    "plot.add_tools(hover, WheelZoomTool(), PanTool(), ResetTool())\n",
    "\n",
    "graph_renderer = from_networkx(G, nx.spring_layout, scale=2, center=(0,0))\n",
    "\n",
    "graph_renderer.selection_policy = NodesAndLinkedEdges()\n",
    "graph_renderer.inspection_policy = NodesAndLinkedEdges()\n",
    "\n",
    "graph_renderer.node_renderer.data_source.data['name'] = list(G.nodes)\n",
    "graph_renderer.node_renderer.data_source.data['node_color'] = color_list\n",
    "\n",
    "\n"
   ]
  },
  {
   "cell_type": "code",
   "execution_count": null,
   "metadata": {},
   "outputs": [],
   "source": [
    "graph_renderer.node_renderer.data_source.data"
   ]
  },
  {
   "cell_type": "code",
   "execution_count": null,
   "metadata": {},
   "outputs": [],
   "source": [
    "graph_renderer.node_renderer.hover_glyph = Circle(size=7, fill_color=Spectral4[1])\n",
    "graph_renderer.node_renderer.glyph = Circle(size=7, fill_color='node_color')\n",
    "\n",
    "graph_renderer.edge_renderer.hover_glyph = MultiLine(line_color=Spectral4[1], line_width=5)\n",
    "\n",
    "plot.renderers.append(graph_renderer)\n",
    "\n",
    "output_file(\"interactive_graphs.html\")\n",
    "show(plot)"
   ]
  },
  {
   "cell_type": "code",
   "execution_count": null,
   "metadata": {},
   "outputs": [],
   "source": [
    "graph.node_renderer"
   ]
  },
  {
   "cell_type": "code",
   "execution_count": null,
   "metadata": {},
   "outputs": [],
   "source": []
  },
  {
   "cell_type": "code",
   "execution_count": null,
   "metadata": {},
   "outputs": [],
   "source": [
    "from bokeh.io import show, output_file\n",
    "from bokeh.plotting import figure\n",
    "from bokeh.models.graphs import from_networkx"
   ]
  },
  {
   "cell_type": "code",
   "execution_count": null,
   "metadata": {},
   "outputs": [],
   "source": [
    "# hover = HoverTool(tooltips=[(\"Name:\", \"@name\")])\n",
    "\n",
    "plot = figure(title=\"Networkx Integration Demonstration\", x_range=(-1.1,1.1), y_range=(-1.1,1.1),\n",
    "              tools=\"pan,wheel_zoom,box_zoom,reset,hover\", toolbar_location='below')\n",
    "\n",
    "\n",
    "graph = from_networkx(G, nx.spring_layout, scale=2, center=(0,0))\n",
    "plot.renderers.append(graph)\n",
    "\n",
    "output_file(\"networkx_graph.html\")\n",
    "show(plot)"
   ]
  },
  {
   "cell_type": "code",
   "execution_count": null,
   "metadata": {},
   "outputs": [],
   "source": [
    "plot.renderers."
   ]
  },
  {
   "cell_type": "code",
   "execution_count": null,
   "metadata": {},
   "outputs": [],
   "source": [
    "G = nx.Graph()\n",
    "G.add_edge('A', 'B')\n",
    "# >>> G.add_edge('B', 'D', weight=2)\n",
    "# >>> G.add_edge('A', 'C', weight=3)\n",
    "# >>> G.add_edge('C', 'D', weight=4)\n",
    "# >>> nx.shortest_path(G, 'A', 'D', weight='weight')\n",
    "# ['A', 'B', 'D']"
   ]
  },
  {
   "cell_type": "code",
   "execution_count": null,
   "metadata": {},
   "outputs": [],
   "source": [
    "fig_size[0] = 18\n",
    "fig_size[1] = 9\n",
    "plt.rcParams[\"figure.figsize\"] = fig_size"
   ]
  },
  {
   "cell_type": "code",
   "execution_count": null,
   "metadata": {},
   "outputs": [],
   "source": [
    "plt.plot(grouped_by_year['merge_year'], grouped_by_year[0])\n",
    "plt.title('Bank Mergers')\n",
    "plt.ylabel('Number of Mergers')\n",
    "plt.xlabel('Merger by Year 1976-2015')\n",
    "plt.show()"
   ]
  },
  {
   "cell_type": "code",
   "execution_count": null,
   "metadata": {},
   "outputs": [],
   "source": [
    "fig = plt.figure(figsize=(4,3))\n",
    "ax = fig.add_subplot(111)\n",
    "ax.plot(list1, list2)\n",
    "fig.savefig('fig1.png', dpi = 300)\n",
    "fig.close()"
   ]
  },
  {
   "cell_type": "code",
   "execution_count": null,
   "metadata": {},
   "outputs": [],
   "source": [
    "apply(lambda x: list(np.around(np.array(x[i])/x['segment_size'], decimals = 4)), axis = 1)"
   ]
  },
  {
   "cell_type": "code",
   "execution_count": null,
   "metadata": {},
   "outputs": [],
   "source": [
    "def get_base_pvol_assumption(num_statments = 72):\n",
    "    stmt_array = np.array(range(1,num_statments+1))\n",
    "    pvol_array = 0.0457*(stmt_array**3)-3.2447*(stmt_array**2)+66.568*(stmt_array)+180.61\n",
    "    for i in range(32,72):\n",
    "        pvol_array[i] = pvol_array[31]\n",
    "    return pvol_array\n",
    "get_base_pvol_assumption()"
   ]
  },
  {
   "cell_type": "code",
   "execution_count": null,
   "metadata": {},
   "outputs": [],
   "source": [
    "get_base_pvol_assumption()[:12]"
   ]
  },
  {
   "cell_type": "code",
   "execution_count": null,
   "metadata": {},
   "outputs": [],
   "source": [
    "plt.plot(get_base_pvol_assumption())\n",
    "plt.title('Base Purchase Volume/Open Assumption')\n",
    "plt.ylabel('Purchase Volume')\n",
    "plt.xlabel('Statment')\n",
    "plt.show()"
   ]
  },
  {
   "cell_type": "code",
   "execution_count": null,
   "metadata": {},
   "outputs": [],
   "source": [
    "def get_pvol_adjustment_factors():\n",
    "    risk_array = np.array(range(10))\n",
    "    usage_array = np.array(range(10))\n",
    "    usage_adj_array = 1.0+(usage_array*.1)\n",
    "    risk_adj_array = 1.0+(3-usage_array)*0.02\n",
    "    segment_level_pvol_adj = np.multiply(usage_adj_array,risk_adj_array.reshape((10,1)))\n",
    "    return usage_adj_array, risk_adj_array, segment_level_pvol_adj\n",
    "get_pvol_adjustment_factors()"
   ]
  },
  {
   "cell_type": "code",
   "execution_count": null,
   "metadata": {},
   "outputs": [],
   "source": [
    "def get_final_segment_level_pvols(base_pvol_assumptions, pvol_adjustment_factors):\n",
    "    segment_pvol_curves = np.multiply(pvol_adjustment_factors.reshape(100,1),base_pvol_assumptions)\n",
    "    return segment_pvol_curves\n",
    "get_final_segment_level_pvols(get_base_pvol_assumption(), get_pvol_adjustment_factors()[2])"
   ]
  },
  {
   "cell_type": "code",
   "execution_count": null,
   "metadata": {},
   "outputs": [],
   "source": [
    "get_final_segment_level_pvols(get_base_pvol_assumption(), get_pvol_adjustment_factors()[2])[2]"
   ]
  },
  {
   "cell_type": "code",
   "execution_count": null,
   "metadata": {},
   "outputs": [],
   "source": [
    "for i in range(100):\n",
    "    plt.plot(get_final_segment_level_pvols(get_base_pvol_assumption(get_stmt_array()), get_pvol_adjustment_factors()[2])[i])\n",
    "plt.show()"
   ]
  },
  {
   "cell_type": "code",
   "execution_count": null,
   "metadata": {},
   "outputs": [],
   "source": [
    "def get_segment_id_array():\n",
    "    risk_usage_list\n",
    "    for i in range(10):\n",
    "        for j in range(10):\n",
    "            risk_usage_list.append([i,j])\n",
    "    segment_ids_risk_usage_array = np.array(risk_usage_list)\n",
    "    return segment_ids_risk_usage_array\n",
    "get_segment_id_array()"
   ]
  },
  {
   "cell_type": "code",
   "execution_count": null,
   "metadata": {},
   "outputs": [],
   "source": [
    "base_line_array = np.zeros((10,10))"
   ]
  },
  {
   "cell_type": "code",
   "execution_count": null,
   "metadata": {},
   "outputs": [],
   "source": [
    "base_line_array[0] = [7000.00, 8000.00, 9000.00, 10000.00, \n",
    "                                         12000.00, 15000.00, 17000.00, 18000.00,\n",
    "                                         20000.00, 20000.00]\n",
    "base_line_array[0]"
   ]
  },
  {
   "cell_type": "code",
   "execution_count": null,
   "metadata": {},
   "outputs": [],
   "source": [
    "base_line_array[1] = np.around(base_line_array[0]*0.90,decimals=-2)\n",
    "base_line_array[1]"
   ]
  },
  {
   "cell_type": "code",
   "execution_count": null,
   "metadata": {},
   "outputs": [],
   "source": [
    "base_line_array.reshape(100,1)"
   ]
  },
  {
   "cell_type": "code",
   "execution_count": null,
   "metadata": {},
   "outputs": [],
   "source": [
    "base_line_array = np.array([7000.00, 8000.00, 9000.00, 10000.00, \n",
    "                                         12000.00, 15000.00, 17000.00, 18000.00,\n",
    "                                         20000.00, 20000.00])"
   ]
  },
  {
   "cell_type": "code",
   "execution_count": null,
   "metadata": {},
   "outputs": [],
   "source": [
    "base_line_array[1]=base_line_array*0.92"
   ]
  },
  {
   "cell_type": "code",
   "execution_count": null,
   "metadata": {},
   "outputs": [],
   "source": [
    "base_line_array = np.zeros((10,10))\n",
    "base_line_array[0] = [7000.00, 8000.00, 9000.00, 10000.00,\n",
    "                                   12000.00, 15000.00, 17000.00, 18000.00,\n",
    "                                   20000.00, 20000.00]\n",
    "for i in range(1,10):\n",
    "    base_line_array[i] = np.around(base_line_array[i-1]*0.90,decimals=-2)\n",
    "base_line_array = base_line_array.reshape(100,1)\n",
    "(-0.00004)*base_line_array+1.2"
   ]
  },
  {
   "cell_type": "code",
   "execution_count": null,
   "metadata": {},
   "outputs": [],
   "source": [
    "for i in base_line_array:\n",
    "    print(i)"
   ]
  },
  {
   "cell_type": "code",
   "execution_count": null,
   "metadata": {},
   "outputs": [],
   "source": [
    "risk_array = np.array(range(10))\n",
    "risk_adj_array = np.around(1-(0.02*(4-risk_array)), decimals=2)\n",
    "risk_adj_array"
   ]
  },
  {
   "cell_type": "code",
   "execution_count": null,
   "metadata": {},
   "outputs": [],
   "source": [
    "usage_adj_array = np.array([1.00, 1.00, 1.00, 1.00, 1.00, 1.00, \n",
    "                                    1.00, 1.00, 1.00, 1.00])\n",
    "usage_adj_array"
   ]
  },
  {
   "cell_type": "code",
   "execution_count": null,
   "metadata": {},
   "outputs": [],
   "source": [
    "segment_level_severity_adj = np.around(np.multiply(usage_adj_array, risk_adj_array.reshape((10,1))), decimals=4)\n",
    "segment_level_severity_adj.reshape(100,1)"
   ]
  },
  {
   "cell_type": "code",
   "execution_count": null,
   "metadata": {},
   "outputs": [],
   "source": [
    "import pandas as pd\n",
    "import random "
   ]
  },
  {
   "cell_type": "code",
   "execution_count": null,
   "metadata": {},
   "outputs": [],
   "source": [
    "d = {'col1': [1, 2, 3, 4], 'col2': ['a','b','c', 'd']}\n",
    "df = pd.DataFrame(data=d)"
   ]
  },
  {
   "cell_type": "code",
   "execution_count": null,
   "metadata": {},
   "outputs": [],
   "source": [
    "df['col1']"
   ]
  },
  {
   "cell_type": "code",
   "execution_count": null,
   "metadata": {},
   "outputs": [],
   "source": [
    "def sample_and_assign_TS(df):\n",
    "    if df[df['col1'] <= 2].sample(n=1)\n",
    "    return df_2"
   ]
  },
  {
   "cell_type": "code",
   "execution_count": null,
   "metadata": {},
   "outputs": [],
   "source": [
    "test(df)"
   ]
  },
  {
   "cell_type": "code",
   "execution_count": null,
   "metadata": {},
   "outputs": [],
   "source": [
    "import tarfile"
   ]
  },
  {
   "cell_type": "code",
   "execution_count": null,
   "metadata": {},
   "outputs": [],
   "source": [
    "june_2016 = tarfile.open(name='test_june_2016.tar.gz')"
   ]
  },
  {
   "cell_type": "code",
   "execution_count": null,
   "metadata": {},
   "outputs": [],
   "source": [
    "june_2016.extractall()"
   ]
  },
  {
   "cell_type": "code",
   "execution_count": null,
   "metadata": {},
   "outputs": [],
   "source": [
    "acs_4k = tarfile.open(name='test_sample_acs_4k.tar.gz')"
   ]
  },
  {
   "cell_type": "code",
   "execution_count": null,
   "metadata": {},
   "outputs": [],
   "source": [
    "acs_4k.extractall()"
   ]
  },
  {
   "cell_type": "code",
   "execution_count": null,
   "metadata": {},
   "outputs": [],
   "source": []
  },
  {
   "cell_type": "code",
   "execution_count": null,
   "metadata": {},
   "outputs": [],
   "source": []
  },
  {
   "cell_type": "code",
   "execution_count": null,
   "metadata": {},
   "outputs": [],
   "source": []
  },
  {
   "cell_type": "code",
   "execution_count": null,
   "metadata": {},
   "outputs": [],
   "source": []
  },
  {
   "cell_type": "code",
   "execution_count": null,
   "metadata": {},
   "outputs": [],
   "source": []
  },
  {
   "cell_type": "code",
   "execution_count": null,
   "metadata": {},
   "outputs": [],
   "source": [
    "coin_values = [1,2,5,10,20,50,100,200]"
   ]
  },
  {
   "cell_type": "code",
   "execution_count": null,
   "metadata": {},
   "outputs": [],
   "source": [
    "max_of_each_value = {}\n",
    "for i in coin_values:\n",
    "    max_of_each_value[i] = 200/i"
   ]
  },
  {
   "cell_type": "code",
   "execution_count": null,
   "metadata": {},
   "outputs": [],
   "source": [
    "max_of_each_value"
   ]
  },
  {
   "cell_type": "code",
   "execution_count": null,
   "metadata": {},
   "outputs": [],
   "source": [
    "200/4"
   ]
  },
  {
   "cell_type": "code",
   "execution_count": null,
   "metadata": {},
   "outputs": [],
   "source": [
    "import numpy as np\n",
    "examp = [50,50,50,50]\n",
    "for i in examp:\n",
    "    if i>100 and i%100==0:\n",
    "        examp.remove(i)\n",
    "        addition = list(np.ones(int(i/100))*100)\n",
    "        examp = examp + addition\n",
    "        break\n",
    "    elif i>50 and i%50==0:\n",
    "        examp.remove(i)\n",
    "        addition = list(np.ones(int(i/50))*50)\n",
    "        examp = examp + addition\n",
    "        break\n",
    "    elif i>20 and i%20==0:\n",
    "        examp.remove(i)\n",
    "        addition = list(np.ones(int(i/20))*20)\n",
    "        examp = examp + addition\n",
    "        break\n",
    "    elif i>10 and i%10==0:\n",
    "        examp.remove(i)\n",
    "        addition = list(np.ones(int(i/10))*10)\n",
    "        examp = examp + addition\n",
    "        break\n",
    "    elif i>5 and i%5==0:\n",
    "        examp.remove(i)\n",
    "        addition = list(np.ones(int(i/5))*5)\n",
    "        examp = examp + addition\n",
    "        break\n",
    "    elif i>2 and i%2==0:\n",
    "        examp.remove(i)\n",
    "        addition = list(np.ones(int(i/2))*2)\n",
    "        examp = examp + addition\n",
    "        break\n",
    "    elif i>1 and i%1==0:\n",
    "        examp.remove(i)\n",
    "        addition = list(np.ones(int(i/2))*2)\n",
    "        examp = examp + addition\n",
    "        break"
   ]
  },
  {
   "cell_type": "code",
   "execution_count": null,
   "metadata": {},
   "outputs": [],
   "source": [
    "def collect_options(coins):\n",
    "    if len(coins) >= 200:\n",
    "        print('All Options Collected')\n",
    "    else:\n",
    "        for i in coins:\n",
    "            if i>100 and i%100==0:\n",
    "                coins.remove(i)\n",
    "                addition = list(np.ones(int(i/100))*100)\n",
    "                new_coins = coins + addition\n",
    "                options.append(new_coins)\n",
    "                return collect_options(new_coins)\n",
    "            elif i>50 and i%50==0:\n",
    "                coins.remove(i)\n",
    "                addition = list(np.ones(int(i/50))*50)\n",
    "                new_coins = coins + addition\n",
    "                options.append(new_coins)\n",
    "                return collect_options(new_coins)\n",
    "            elif i>20 and i%20==0:\n",
    "                coins.remove(i)\n",
    "                addition = list(np.ones(int(i/20))*20)\n",
    "                new_coins = coins + addition\n",
    "                options.append(new_coins)\n",
    "                return collect_options(new_coins)\n",
    "            elif i>10 and i%10==0:\n",
    "                coins.remove(i)\n",
    "                addition = list(np.ones(int(i/10))*10)\n",
    "                new_coins = coins + addition\n",
    "                options.append(new_coins)\n",
    "                return collect_options(new_coins)\n",
    "            elif i>5 and i%5==0:\n",
    "                coins.remove(i)\n",
    "                addition = list(np.ones(int(i/5))*5)\n",
    "                new_coins = coins + addition\n",
    "                options.append(new_coins)\n",
    "                return collect_options(new_coins)\n",
    "            elif i>2 and i%2==0:\n",
    "                coins.remove(i)\n",
    "                addition = list(np.ones(int(i/2))*2)\n",
    "                new_coins = coins + addition\n",
    "                options.append(new_coins)\n",
    "                return collect_options(new_coins)\n",
    "            elif i>1 and i%1==0:\n",
    "                coins.remove(i)\n",
    "                addition = list(np.ones(int(i/1))*1)\n",
    "                new_coins = coins + addition\n",
    "                options.append(new_coins)\n",
    "                return collect_options(new_coins)"
   ]
  },
  {
   "cell_type": "code",
   "execution_count": null,
   "metadata": {},
   "outputs": [],
   "source": [
    "coins = [200]\n",
    "options = [[200.0]]\n",
    "collect_options(coins)"
   ]
  },
  {
   "cell_type": "code",
   "execution_count": null,
   "metadata": {},
   "outputs": [],
   "source": [
    "len(options)"
   ]
  },
  {
   "cell_type": "code",
   "execution_count": null,
   "metadata": {},
   "outputs": [],
   "source": [
    "for i in options:\n",
    "    print(i)"
   ]
  },
  {
   "cell_type": "code",
   "execution_count": null,
   "metadata": {},
   "outputs": [],
   "source": [
    "test = [[200.0]]\n",
    "test.append([100.0,100.0])"
   ]
  },
  {
   "cell_type": "code",
   "execution_count": null,
   "metadata": {},
   "outputs": [],
   "source": [
    "test"
   ]
  },
  {
   "cell_type": "code",
   "execution_count": null,
   "metadata": {},
   "outputs": [],
   "source": []
  },
  {
   "cell_type": "code",
   "execution_count": null,
   "metadata": {},
   "outputs": [],
   "source": []
  },
  {
   "cell_type": "code",
   "execution_count": null,
   "metadata": {},
   "outputs": [],
   "source": []
  },
  {
   "cell_type": "code",
   "execution_count": null,
   "metadata": {},
   "outputs": [],
   "source": [
    "!ls"
   ]
  },
  {
   "cell_type": "code",
   "execution_count": null,
   "metadata": {},
   "outputs": [],
   "source": []
  },
  {
   "cell_type": "code",
   "execution_count": null,
   "metadata": {},
   "outputs": [],
   "source": [
    "from selenium import webdriver\n",
    "from selenium.webdriver.common.keys import Keys\n",
    "from selenium.webdriver.common.by import By"
   ]
  },
  {
   "cell_type": "code",
   "execution_count": null,
   "metadata": {},
   "outputs": [],
   "source": [
    "driver = webdriver.Chrome()"
   ]
  },
  {
   "cell_type": "code",
   "execution_count": null,
   "metadata": {},
   "outputs": [],
   "source": [
    "driver.get('https://www.plex.tv/sign-in/?forward=https://www.plex.tv/')"
   ]
  },
  {
   "cell_type": "code",
   "execution_count": null,
   "metadata": {},
   "outputs": [],
   "source": [
    "elem = driver.find_elements_by_xpath(\"//*[contains(text(), 'email')]\")[0]"
   ]
  },
  {
   "cell_type": "code",
   "execution_count": null,
   "metadata": {},
   "outputs": [],
   "source": [
    "elem.click()"
   ]
  },
  {
   "cell_type": "code",
   "execution_count": null,
   "metadata": {},
   "outputs": [],
   "source": [
    "email = driver.find_element_by_id(\"email\")\n",
    "password = driver.find_element_by_id(\"password\")"
   ]
  },
  {
   "cell_type": "code",
   "execution_count": null,
   "metadata": {},
   "outputs": [],
   "source": [
    "email.send_keys(\"tphoran@gmail.com\")"
   ]
  },
  {
   "cell_type": "code",
   "execution_count": null,
   "metadata": {},
   "outputs": [],
   "source": [
    "password.send_keys(\"VBiLfhU9dzVQJ\")"
   ]
  },
  {
   "cell_type": "code",
   "execution_count": null,
   "metadata": {},
   "outputs": [],
   "source": [
    "sign_in = driver.find_elements_by_xpath(\"//*[contains(text(), 'Sign in')]\")[0]"
   ]
  },
  {
   "cell_type": "code",
   "execution_count": null,
   "metadata": {},
   "outputs": [],
   "source": [
    "sign_in.click()"
   ]
  },
  {
   "cell_type": "code",
   "execution_count": null,
   "metadata": {},
   "outputs": [],
   "source": []
  },
  {
   "cell_type": "code",
   "execution_count": null,
   "metadata": {},
   "outputs": [],
   "source": []
  },
  {
   "cell_type": "code",
   "execution_count": null,
   "metadata": {},
   "outputs": [],
   "source": [
    "email = "
   ]
  },
  {
   "cell_type": "code",
   "execution_count": null,
   "metadata": {},
   "outputs": [],
   "source": [
    "elem = driver.find_element_by_name('j_username')\n",
    "elem.clear()\n",
    "elem.send_keys('username')"
   ]
  },
  {
   "cell_type": "code",
   "execution_count": null,
   "metadata": {},
   "outputs": [],
   "source": [
    "driver.find_element_by_css_selector('button._17iUOU._1I3Olm._1A8EcL._2kT68l._2n0yJn._3S9UdJ._1NBfEr._1l_5xB._1A8EcL._2kT68l._2n0yJn._2kT68l._2n0yJn._3fwLzo._3S9UdJ._2n0yJn._2XA2bN').click()"
   ]
  },
  {
   "cell_type": "code",
   "execution_count": null,
   "metadata": {},
   "outputs": [],
   "source": [
    "_17iUOU._1I3Olm._1A8EcL._2kT68l._2n0yJn._3S9UdJ._1NBfEr._1l_5xB._1A8EcL._2kT68l._2n0yJn._2kT68l._2n0yJn._3fwLzo._3S9UdJ._2n0yJn._2XA2bN"
   ]
  },
  {
   "cell_type": "code",
   "execution_count": null,
   "metadata": {},
   "outputs": [],
   "source": [
    "driver.find_element_by_id('email')"
   ]
  },
  {
   "cell_type": "code",
   "execution_count": null,
   "metadata": {},
   "outputs": [],
   "source": [
    "driver.sendKeys(Keys.TAB);\n",
    "driver.sendKeys(Keys.TAB);\n",
    "driver.sendKeys(Keys.TAB);\n",
    "driver.sendKeys(Keys.ENTER);"
   ]
  },
  {
   "cell_type": "code",
   "execution_count": null,
   "metadata": {},
   "outputs": [],
   "source": [
    "<button data-qa-id=\"signIn--email\" type=\"submit\" role=\"button\" class=\"_17iUOU _1I3Olm _1A8EcL _2kT68l _2n0yJn _3S9UdJ _1NBfEr _1l_5xB _1A8EcL _2kT68l _2n0yJn  _2kT68l _2n0yJn _3fwLzo _3S9UdJ _2n0yJn _2XA2bN      \"><span class=\"_1NdZWc\"><div class=\"_1TgDPI Niere7 _2kLwt_ _3PStHE Niere7 _2kLwt_\" aria-label=\"Loading\"></div></span><span class=\"qxG01S\">Continue with email</span></button>"
   ]
  },
  {
   "cell_type": "code",
   "execution_count": null,
   "metadata": {},
   "outputs": [],
   "source": []
  },
  {
   "cell_type": "code",
   "execution_count": null,
   "metadata": {},
   "outputs": [],
   "source": []
  },
  {
   "cell_type": "code",
   "execution_count": null,
   "metadata": {},
   "outputs": [],
   "source": [
    "import boto3\n",
    "import awscli"
   ]
  },
  {
   "cell_type": "code",
   "execution_count": null,
   "metadata": {},
   "outputs": [],
   "source": [
    "ec2 = boto3.resource('ec2', region_name=\"us-east-1\")"
   ]
  },
  {
   "cell_type": "code",
   "execution_count": null,
   "metadata": {},
   "outputs": [],
   "source": [
    "--tag-specifications \"ResourceType=instance,Tags=[{Key=Owner,Value=TeamA}]\""
   ]
  },
  {
   "cell_type": "code",
   "execution_count": null,
   "metadata": {},
   "outputs": [],
   "source": []
  },
  {
   "cell_type": "code",
   "execution_count": null,
   "metadata": {},
   "outputs": [],
   "source": []
  },
  {
   "cell_type": "code",
   "execution_count": null,
   "metadata": {},
   "outputs": [],
   "source": []
  },
  {
   "cell_type": "code",
   "execution_count": null,
   "metadata": {},
   "outputs": [],
   "source": [
    "from imdb import IMDb\n",
    "ia = IMDb()"
   ]
  },
  {
   "cell_type": "code",
   "execution_count": null,
   "metadata": {},
   "outputs": [],
   "source": [
    "# Search for a movie (get a list of Movie objects).\n",
    "s_result = ia.search_movie('The Untouchables')"
   ]
  },
  {
   "cell_type": "code",
   "execution_count": null,
   "metadata": {},
   "outputs": [],
   "source": [
    "s_result[0]"
   ]
  },
  {
   "cell_type": "code",
   "execution_count": null,
   "metadata": {},
   "outputs": [],
   "source": [
    "for item in s_result:\n",
    "   print(item['long imdb canonical title'], item.movieID)"
   ]
  },
  {
   "cell_type": "code",
   "execution_count": null,
   "metadata": {},
   "outputs": [],
   "source": [
    "the_unt = s_result[0]\n",
    "ia.update(the_unt)"
   ]
  },
  {
   "cell_type": "code",
   "execution_count": null,
   "metadata": {},
   "outputs": [],
   "source": [
    "print(ia.get_movie_infoset())"
   ]
  },
  {
   "cell_type": "code",
   "execution_count": null,
   "metadata": {},
   "outputs": [],
   "source": [
    "the_unt.keys()"
   ]
  },
  {
   "cell_type": "code",
   "execution_count": null,
   "metadata": {},
   "outputs": [],
   "source": [
    "the_unt['year']"
   ]
  },
  {
   "cell_type": "code",
   "execution_count": null,
   "metadata": {},
   "outputs": [],
   "source": [
    "the_unt['plot']"
   ]
  },
  {
   "cell_type": "code",
   "execution_count": null,
   "metadata": {},
   "outputs": [],
   "source": []
  },
  {
   "cell_type": "code",
   "execution_count": null,
   "metadata": {},
   "outputs": [],
   "source": []
  },
  {
   "cell_type": "code",
   "execution_count": 1,
   "metadata": {},
   "outputs": [],
   "source": [
    "import boto3\n",
    "import datetime\n",
    "from imdb import IMDb\n",
    "from boto3.dynamodb.conditions import Key, Attr"
   ]
  },
  {
   "cell_type": "code",
   "execution_count": 2,
   "metadata": {},
   "outputs": [],
   "source": [
    "today = datetime.datetime.today().strftime('%Y %m %d')"
   ]
  },
  {
   "cell_type": "code",
   "execution_count": 3,
   "metadata": {},
   "outputs": [],
   "source": [
    "ia = IMDb()\n",
    "client = boto3.client('s3')\n",
    "results = client.list_objects(Bucket='manny-and-meche-plex', Prefix = 'Movies/')\n",
    "\n",
    "dynamodb = boto3.resource('dynamodb')\n",
    "table = dynamodb.Table('plex-collection')"
   ]
  },
  {
   "cell_type": "code",
   "execution_count": 4,
   "metadata": {},
   "outputs": [],
   "source": [
    "movie_list = []\n",
    "for i in results['Contents']:\n",
    "    movie = i['Key'][7:-4]\n",
    "    if movie != '':\n",
    "        movie_list.append(movie)"
   ]
  },
  {
   "cell_type": "code",
   "execution_count": null,
   "metadata": {},
   "outputs": [],
   "source": [
    "manual_list = ['Avatar', 'Insomnia', 'A Christmas Carol', 'Star Trek', 'The Godfather: Part 2', 'The Godfather: Part 3', 'Angels and Demons']"
   ]
  },
  {
   "cell_type": "code",
   "execution_count": null,
   "metadata": {},
   "outputs": [],
   "source": [
    "# movie_list = ['10 Cloverfield Lane']"
   ]
  },
  {
   "cell_type": "code",
   "execution_count": null,
   "metadata": {},
   "outputs": [],
   "source": [
    "for m in movie_list:\n",
    "    m_search = m.replace(\" \", \"\").replace(\":\", \"\").replace(\"-\", \"\").replace(\"'\", \"\").replace(\".\", \"\").replace(\",\",\"\")\n",
    "    m_search = m_search.lower()\n",
    "    if table.query(KeyConditionExpression=Key('Search Title').eq(m_search))['Count'] == 0:\n",
    "        try:\n",
    "            if m not in manual_list:\n",
    "                s_result = ia.search_movie(m)\n",
    "                entry = s_result[0]\n",
    "                ia.update(entry)\n",
    "                data_input = {}\n",
    "                data_input['Search Title'] = m_search\n",
    "                data_input['Title'] = m\n",
    "                data_input['Plot'] = entry['plot'][0]\n",
    "                data_input['Genres'] = entry['genres']\n",
    "                release_date = entry['original air date'][:11]\n",
    "                datetime_object = datetime.datetime.strptime(release_date, '%d %b %Y')\n",
    "                data_input['Release Date'] = datetime_object.strftime('%Y %m %d')\n",
    "                data_input['Add Date'] = today\n",
    "                data_input['Year'] = datetime_object.strftime('%Y')\n",
    "                table.put_item(Item=data_input)\n",
    "        except (KeyError, ValueError) as e:\n",
    "            print('Failed '+m)\n",
    "    else:\n",
    "        print(m+' already in database')"
   ]
  },
  {
   "cell_type": "code",
   "execution_count": null,
   "metadata": {},
   "outputs": [],
   "source": [
    "for m in movie_list:\n",
    "    if m not in manual_list:\n",
    "        s_result = ia.search_movie(m)\n",
    "        print(m)\n",
    "        print(s_result[0])\n",
    "        print()"
   ]
  },
  {
   "cell_type": "code",
   "execution_count": 5,
   "metadata": {},
   "outputs": [],
   "source": [
    "# 'Avatar (2009)', 'Insomnia (2002)', 'A Christmas Carol (1984)', 'Star Trek (2009), 'Angels & Demons (2009)', \\\n",
    "# 'The Godfather: Part 2', 'The Godfather: Part 3', 'South Park: Bigger, Longer and Uncut'\n",
    "s_result = ia.search_movie('Ant-Man and the Wasp')\n",
    "entry = s_result[0]\n",
    "ia.update(entry)\n",
    "m = 'Ant-Man and the Wasp' \n",
    "m_search = m.replace(\" \", \"\").replace(\":\", \"\").replace(\"-\", \"\").replace(\"'\", \"\").replace(\".\", \"\").replace(\",\",\"\")\n",
    "m_search = m_search.lower()\n",
    "data_input = {}\n",
    "data_input['Search Title'] = m_search\n",
    "data_input['Title'] = m\n",
    "data_input['Plot'] = entry['plot'][0]\n",
    "data_input['Genres'] = entry['genres']\n",
    "release_date = entry['original air date'][:11]\n",
    "datetime_object = datetime.datetime.strptime(release_date, '%d %b %Y')\n",
    "data_input['Release Date'] = datetime_object.strftime('%Y %m %d')\n",
    "data_input['Add Date'] = today\n",
    "data_input['Year'] = datetime_object.strftime('%Y')"
   ]
  },
  {
   "cell_type": "code",
   "execution_count": 6,
   "metadata": {},
   "outputs": [
    {
     "data": {
      "text/plain": [
       "{'Add Date': '2018 11 17',\n",
       " 'Genres': ['Action', 'Adventure', 'Comedy', 'Sci-Fi'],\n",
       " 'Plot': 'As Scott Lang balances being both a Super Hero and a father, Hope van Dyne and Dr. Hank Pym present an urgent new mission that finds the Ant-Man fighting alongside The Wasp to uncover secrets from their past.::Walt Disney Studios',\n",
       " 'Release Date': '2018 07 06',\n",
       " 'Search Title': 'antmanandthewasp',\n",
       " 'Title': 'Ant-Man and the Wasp',\n",
       " 'Year': '2018'}"
      ]
     },
     "execution_count": 6,
     "metadata": {},
     "output_type": "execute_result"
    }
   ],
   "source": [
    "data_input"
   ]
  },
  {
   "cell_type": "code",
   "execution_count": 9,
   "metadata": {},
   "outputs": [
    {
     "data": {
      "text/plain": [
       "{'ResponseMetadata': {'HTTPHeaders': {'connection': 'keep-alive',\n",
       "   'content-length': '2',\n",
       "   'content-type': 'application/x-amz-json-1.0',\n",
       "   'date': 'Mon, 05 Nov 2018 01:58:27 GMT',\n",
       "   'server': 'Server',\n",
       "   'x-amz-crc32': '2745614147',\n",
       "   'x-amzn-requestid': 'R1UHRMU3AF0O6HLTO6LRG1P0QFVV4KQNSO5AEMVJF66Q9ASUAAJG'},\n",
       "  'HTTPStatusCode': 200,\n",
       "  'RequestId': 'R1UHRMU3AF0O6HLTO6LRG1P0QFVV4KQNSO5AEMVJF66Q9ASUAAJG',\n",
       "  'RetryAttempts': 0}}"
      ]
     },
     "execution_count": 9,
     "metadata": {},
     "output_type": "execute_result"
    }
   ],
   "source": [
    "table.put_item(Item=data_input)"
   ]
  },
  {
   "cell_type": "code",
   "execution_count": null,
   "metadata": {},
   "outputs": [],
   "source": []
  },
  {
   "cell_type": "code",
   "execution_count": null,
   "metadata": {},
   "outputs": [],
   "source": []
  },
  {
   "cell_type": "code",
   "execution_count": null,
   "metadata": {},
   "outputs": [],
   "source": []
  },
  {
   "cell_type": "code",
   "execution_count": null,
   "metadata": {},
   "outputs": [],
   "source": []
  },
  {
   "cell_type": "code",
   "execution_count": null,
   "metadata": {},
   "outputs": [],
   "source": []
  },
  {
   "cell_type": "code",
   "execution_count": null,
   "metadata": {},
   "outputs": [],
   "source": [
    "s_result"
   ]
  },
  {
   "cell_type": "code",
   "execution_count": null,
   "metadata": {},
   "outputs": [],
   "source": [
    "s_result = ia.search_movie(\"Family Guy: Something, Something, Something, Dark Side\")\n",
    "entry = s_result[0]\n",
    "ia.update(entry)\n",
    "print(entry['original air date'][:11])\n",
    "data = entry.data\n",
    "# for i in data:\n",
    "#     print(i)"
   ]
  },
  {
   "cell_type": "code",
   "execution_count": null,
   "metadata": {},
   "outputs": [],
   "source": [
    "x = data['original air date'][:11]"
   ]
  },
  {
   "cell_type": "code",
   "execution_count": null,
   "metadata": {},
   "outputs": [],
   "source": [
    "datetime_object = datetime.datetime.strptime(release_date, '%d %b %Y')"
   ]
  },
  {
   "cell_type": "code",
   "execution_count": null,
   "metadata": {},
   "outputs": [],
   "source": [
    "datetime_object.strftime('%Y %m %d')"
   ]
  },
  {
   "cell_type": "code",
   "execution_count": null,
   "metadata": {},
   "outputs": [],
   "source": []
  },
  {
   "cell_type": "code",
   "execution_count": null,
   "metadata": {},
   "outputs": [],
   "source": [
    "movie = 'Ant Man'\n",
    "dynamodb = boto3.resource('dynamodb')\n",
    "movie_table = dynamodb.Table('plex-collection')\n",
    "if movie_table.query(KeyConditionExpression=Key('Title').eq(movie))['Count'] > 0:\n",
    "    print('fart')\n",
    "else:\n",
    "    words=movie.split()\n",
    "    if words[0].lower() == 'the' or words[0].lower() == 'a':\n",
    "        search_word = words[1]\n",
    "    else: \n",
    "        search_word = words[0]\n",
    "    search_word = search_word.split(':')[0]\n",
    "    search_word = search_word.split('-')[0]\n",
    "    search_results = movie_table.scan(Select='ALL_ATTRIBUTES', FilterExpression=Attr('Title').contains(search_word.capitalize()))\n",
    "    if search_results['Count']<=15:\n",
    "        results_to_return = search_results['Count']\n",
    "    else:\n",
    "        results_to_return = 15\n",
    "    for i in range(results_to_return):\n",
    "        print(search_results['Items'][i]['Title'])"
   ]
  },
  {
   "cell_type": "code",
   "execution_count": null,
   "metadata": {},
   "outputs": [],
   "source": [
    "word = 'Ant-Man,'\n",
    "word[:-1]"
   ]
  },
  {
   "cell_type": "code",
   "execution_count": null,
   "metadata": {},
   "outputs": [],
   "source": [
    "search_results"
   ]
  },
  {
   "cell_type": "code",
   "execution_count": null,
   "metadata": {},
   "outputs": [],
   "source": [
    "movie = 'ant man'\n",
    "dynamodb = boto3.resource('dynamodb')\n",
    "movie_table = dynamodb.Table('plex-collection')\n",
    "response = movie_table.scan(Select='ALL_ATTRIBUTES', FilterExpression=Attr('Title').contains(\"Ant\"))"
   ]
  },
  {
   "cell_type": "code",
   "execution_count": null,
   "metadata": {
    "scrolled": true
   },
   "outputs": [],
   "source": [
    "response"
   ]
  },
  {
   "cell_type": "code",
   "execution_count": null,
   "metadata": {},
   "outputs": [],
   "source": [
    "for i in range(1):\n",
    "    print(i)"
   ]
  },
  {
   "cell_type": "code",
   "execution_count": null,
   "metadata": {},
   "outputs": [],
   "source": [
    "print('Star\\nWars')"
   ]
  },
  {
   "cell_type": "code",
   "execution_count": null,
   "metadata": {},
   "outputs": [],
   "source": [
    "dynamodb = boto3.resource('dynamodb')\n",
    "movie_table = dynamodb.Table('plex-collection')"
   ]
  },
  {
   "cell_type": "code",
   "execution_count": null,
   "metadata": {},
   "outputs": [],
   "source": [
    "response = movie_table.scan(Select='ALL_ATTRIBUTES', FilterExpression=Attr('Release Date').gt(\"2015\"))"
   ]
  },
  {
   "cell_type": "code",
   "execution_count": null,
   "metadata": {},
   "outputs": [],
   "source": [
    "response_dict = {}\n",
    "for i in response['Items']:\n",
    "    response_dict[i['Release Date']] = i['Title']        "
   ]
  },
  {
   "cell_type": "code",
   "execution_count": null,
   "metadata": {},
   "outputs": [],
   "source": [
    "release_dates = list(response_dict.keys())"
   ]
  },
  {
   "cell_type": "code",
   "execution_count": null,
   "metadata": {},
   "outputs": [],
   "source": [
    "release_dates.sort(reverse=True)\n",
    "recent = ''\n",
    "for i in release_dates[:10]:\n",
    "    recent += response_dict[i]+', '"
   ]
  },
  {
   "cell_type": "code",
   "execution_count": null,
   "metadata": {},
   "outputs": [],
   "source": [
    "recent"
   ]
  },
  {
   "cell_type": "code",
   "execution_count": null,
   "metadata": {},
   "outputs": [],
   "source": []
  },
  {
   "cell_type": "code",
   "execution_count": null,
   "metadata": {},
   "outputs": [],
   "source": []
  },
  {
   "cell_type": "code",
   "execution_count": null,
   "metadata": {},
   "outputs": [],
   "source": []
  },
  {
   "cell_type": "code",
   "execution_count": null,
   "metadata": {},
   "outputs": [],
   "source": []
  },
  {
   "cell_type": "code",
   "execution_count": null,
   "metadata": {},
   "outputs": [],
   "source": []
  },
  {
   "cell_type": "code",
   "execution_count": null,
   "metadata": {},
   "outputs": [],
   "source": [
    "for key in sorted(response_dict.iterkeys()):\n",
    "    print \"%s: %s\" % (key, mydict[key])"
   ]
  },
  {
   "cell_type": "code",
   "execution_count": null,
   "metadata": {},
   "outputs": [],
   "source": [
    "mydict = {'carl':40,\n",
    "          'alan':2,\n",
    "          'bob':1,\n",
    "          'danny':3}\n",
    "\n",
    "for key in sorted(mydict.iterkeys()):\n",
    "    print(\"%s: %s\" % (key, mydict[key]))"
   ]
  },
  {
   "cell_type": "code",
   "execution_count": null,
   "metadata": {},
   "outputs": [],
   "source": [
    "for i in response_dict.values():\n",
    "    print(i)"
   ]
  },
  {
   "cell_type": "code",
   "execution_count": null,
   "metadata": {},
   "outputs": [],
   "source": [
    "'2018 04 06' > '2016 03 11'"
   ]
  },
  {
   "cell_type": "code",
   "execution_count": null,
   "metadata": {},
   "outputs": [],
   "source": [
    "response_dict"
   ]
  },
  {
   "cell_type": "code",
   "execution_count": null,
   "metadata": {},
   "outputs": [],
   "source": [
    "response = movie_table.query(Select='SPECIFIC_ATTRIBUTES',\n",
    "                             AttributesToGet=['Title','Release Date'],\n",
    "                             KeyConditionExpression=\n",
    "                             ScanIndexForward=True)"
   ]
  },
  {
   "cell_type": "code",
   "execution_count": null,
   "metadata": {},
   "outputs": [],
   "source": [
    "Select='ALL_ATTRIBUTES'|'ALL_PROJECTED_ATTRIBUTES'|'SPECIFIC_ATTRIBUTES'|'COUNT',\n",
    "    AttributesToGet=[\n",
    "        'string',\n",
    "    ],"
   ]
  },
  {
   "cell_type": "code",
   "execution_count": null,
   "metadata": {},
   "outputs": [],
   "source": [
    "response"
   ]
  },
  {
   "cell_type": "code",
   "execution_count": null,
   "metadata": {},
   "outputs": [],
   "source": [
    "dynamodb = boto3.resource('dynamodb')\n",
    "movie_table = dynamodb.Table('plex-collection')\n",
    "response = movie_table.scan(Select='ALL_ATTRIBUTES', FilterExpression=Attr('Year').gt(\"2016\"))\n",
    "    \n",
    "movie_table.query(KeyConditionExpression=Key('Search Title').eq('antman'))['Items'][0]['Title']"
   ]
  },
  {
   "cell_type": "code",
   "execution_count": null,
   "metadata": {},
   "outputs": [],
   "source": [
    "recent"
   ]
  },
  {
   "cell_type": "code",
   "execution_count": null,
   "metadata": {},
   "outputs": [],
   "source": [
    "response_dict['2018 01 05']"
   ]
  },
  {
   "cell_type": "code",
   "execution_count": null,
   "metadata": {},
   "outputs": [],
   "source": [
    "response"
   ]
  },
  {
   "cell_type": "code",
   "execution_count": null,
   "metadata": {},
   "outputs": [],
   "source": [
    "release_dates"
   ]
  },
  {
   "cell_type": "code",
   "execution_count": null,
   "metadata": {},
   "outputs": [],
   "source": [
    "def happy_path():\n",
    "    return 'test'"
   ]
  },
  {
   "cell_type": "code",
   "execution_count": null,
   "metadata": {},
   "outputs": [],
   "source": [
    "def relaunch_if_needed():\n",
    "    if happy_path() == 'test':\n",
    "        return 'yay'"
   ]
  },
  {
   "cell_type": "code",
   "execution_count": null,
   "metadata": {},
   "outputs": [],
   "source": [
    "happy_path()"
   ]
  },
  {
   "cell_type": "code",
   "execution_count": null,
   "metadata": {},
   "outputs": [],
   "source": [
    "relaunch_if_needed()"
   ]
  },
  {
   "cell_type": "code",
   "execution_count": null,
   "metadata": {},
   "outputs": [],
   "source": [
    "test_list = [1,2,3,4,4]\n",
    "len(set(test_list))\n"
   ]
  },
  {
   "cell_type": "code",
   "execution_count": null,
   "metadata": {},
   "outputs": [],
   "source": []
  },
  {
   "cell_type": "code",
   "execution_count": null,
   "metadata": {},
   "outputs": [],
   "source": []
  },
  {
   "cell_type": "code",
   "execution_count": null,
   "metadata": {},
   "outputs": [],
   "source": []
  },
  {
   "cell_type": "code",
   "execution_count": null,
   "metadata": {},
   "outputs": [],
   "source": []
  },
  {
   "cell_type": "code",
   "execution_count": 1,
   "metadata": {},
   "outputs": [],
   "source": [
    "import boto3"
   ]
  },
  {
   "cell_type": "code",
   "execution_count": 2,
   "metadata": {},
   "outputs": [],
   "source": [
    "sns_client = boto3.client('sns')"
   ]
  },
  {
   "cell_type": "code",
   "execution_count": 10,
   "metadata": {},
   "outputs": [
    {
     "data": {
      "text/plain": [
       "{'MessageId': '70c78709-46fc-5a59-8a0e-d3ac3aecef56',\n",
       " 'ResponseMetadata': {'HTTPHeaders': {'content-length': '294',\n",
       "   'content-type': 'text/xml',\n",
       "   'date': 'Tue, 01 Jan 2019 14:31:43 GMT',\n",
       "   'x-amzn-requestid': '071a66f5-ec55-5f5c-8f2f-32509045aa53'},\n",
       "  'HTTPStatusCode': 200,\n",
       "  'RequestId': '071a66f5-ec55-5f5c-8f2f-32509045aa53',\n",
       "  'RetryAttempts': 0}}"
      ]
     },
     "execution_count": 10,
     "metadata": {},
     "output_type": "execute_result"
    }
   ],
   "source": [
    "sns_client.publish(PhoneNumber='+15712559339', Message='Message WooWoo')"
   ]
  },
  {
   "cell_type": "code",
   "execution_count": null,
   "metadata": {},
   "outputs": [],
   "source": []
  }
 ],
 "metadata": {
  "kernelspec": {
   "display_name": "Python 3",
   "language": "python",
   "name": "python3"
  },
  "language_info": {
   "codemirror_mode": {
    "name": "ipython",
    "version": 3
   },
   "file_extension": ".py",
   "mimetype": "text/x-python",
   "name": "python",
   "nbconvert_exporter": "python",
   "pygments_lexer": "ipython3",
   "version": "3.5.6"
  }
 },
 "nbformat": 4,
 "nbformat_minor": 1
}
