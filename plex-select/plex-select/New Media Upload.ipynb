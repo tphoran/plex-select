{
 "cells": [
  {
   "cell_type": "code",
   "execution_count": 7,
   "metadata": {},
   "outputs": [],
   "source": [
    "import boto3\n",
    "import os\n",
    "from imdb import IMDb"
   ]
  },
  {
   "cell_type": "code",
   "execution_count": 8,
   "metadata": {},
   "outputs": [],
   "source": [
    "filepath = '/Users/tphoran/Movies/2018/'\n",
    "directory_list = os.listdir(path=filepath)\n",
    "year = '('+filepath[-5:-1]+')'"
   ]
  },
  {
   "cell_type": "code",
   "execution_count": 9,
   "metadata": {},
   "outputs": [
    {
     "data": {
      "text/plain": [
       "['.DS_Store', 'Bohemian Rhapsody.m4v', 'The Grinch.m4v']"
      ]
     },
     "execution_count": 9,
     "metadata": {},
     "output_type": "execute_result"
    }
   ],
   "source": [
    "directory_list"
   ]
  },
  {
   "cell_type": "code",
   "execution_count": 10,
   "metadata": {},
   "outputs": [
    {
     "name": "stdout",
     "output_type": "stream",
     "text": [
      "Bohemian Rhapsody\n",
      "02 Nov 2018\n",
      "['The story of the legendary rock band Queen and lead singer Freddie Mercury, leading up to their famous performance at Live Aid (1985).::Anonymous', 'Bohemian Rhapsody is a foot-stomping celebration of Queen, their music and their extraordinary lead singer Freddie Mercury. Freddie defied stereotypes and shattered convention to become one of the most beloved entertainers on the planet. The film traces the meteoric rise of the band through their iconic songs and revolutionary sound. They reach unparalleled success, but in an unexpected turn Freddie, surrounded by darker influences, shuns Queen in pursuit of his solo career. Having suffered greatly without the collaboration of Queen, Freddie manages to reunite with his bandmates just in time for Live Aid. While bravely facing a recent AIDS diagnosis, Freddie leads the band in one of the greatest performances in the history of rock music. Queen cements a legacy that continues to inspire outsiders, dreamers and music lovers to this day.::Twentieth Century Fox', \"Bohemian Rhapsody is a movie based on the true story of Queen's journey from the start of the rock band to their now-legendary 1985 performance at the Live Aid concert in Wembley Stadium. The story chronicles lead singer Freddie Mercury's tempestuous journey from an outcast immigrant struggling to find his place in a rejecting society to his becoming a beloved and world-famous artist.\"]\n",
      "\n",
      "The Grinch\n",
      "09 Nov 2018\n",
      "['A grumpy Grinch plots to ruin Christmas for the village of Whoville.', \"For their eighth fully animated feature, Illumination and Universal Pictures present The Grinch, based on Dr. Seuss' beloved holiday classic. The Grinch tells the story of a cynical grump who goes on a mission to steal Christmas, only to have his heart changed by a young girl's generous holiday spirit. Funny, heartwarming, and visually stunning, it's a universal story about the spirit of Christmas and the indomitable power of optimism. Academy Award® nominee Benedict Cumberbatch lends his voice to the infamous Grinch, who lives a solitary life inside a cave on Mt. Crumpet with only his loyal dog, Max, for company. With a cave rigged with inventions and contraptions for his day-to-day needs, the Grinch only sees his neighbors in Whoville when he runs out of food. Each year at Christmas they disrupt his tranquil solitude with their increasingly bigger, brighter, and louder celebrations. When the Whos declare they are going to make Christmas three times bigger this year, the Grinch realizes there is only one way for him to gain some peace and quiet: he must steal Christmas. To do so, he decides to pose as Santa Claus on Christmas Eve, even going so far as to trap a lackadaisical misfit reindeer to pull his sleigh. Meanwhile, down in Whoville, Cindy-Lou Who, a young girl overflowing with holiday cheer, plots with her gang of friends to trap Santa Claus as he makes his Christmas Eve rounds so that she can thank him for help for her overworked single mother. As Christmas approaches, however, her good-natured scheme threatens to collide with the Grinch's more nefarious one. Will Cindy-Lou achieve her goal of finally meeting Santa Claus? Will the Grinch succeed in silencing the Whos' holiday cheer once and for all? Find out, Christmas season 2018.::Universal Pictures\", 'In the town of Whoville, human-like creatures called Whos are filled with excitement about celebrating Christmas. The only one who isn\\'t amused is a cantankerous, green furred creature called The Grinch, who has a heart \"two sizes too small\" and lives in a cave on the top of Mount Crumpit just north of Whoville. The Grinch\\'s only friend is his loyal pet dog Max and they both only visit Whoville when the Grinch needs to buy food and do bad things. Meanwhile, 6-year-old Cindy Lou Who notices that her mother Donna is overworked trying to take care of herself and her twin infant brothers, Buster and Bean. She at first decides to send a letter to Santa Claus to help her mother but after encountering the Grinch, who sarcastically says that she\\'ll have to talk to Santa face-to-face about it, she eventually decides to try and trap Santa with the help of her friends..']\n",
      "\n"
     ]
    }
   ],
   "source": [
    "# Verify Movies Look Good\n",
    "for i in directory_list:\n",
    "    if (i[0] != '.'):\n",
    "        ia = IMDb()\n",
    "        m = i[:-4]+' '+year\n",
    "        s_result = ia.search_movie(m)\n",
    "        entry = s_result[0]\n",
    "        ia.update(entry)\n",
    "        print(entry['title'])\n",
    "        print(entry['original air date'][:11])\n",
    "        print(entry['plot'])\n",
    "        print()"
   ]
  },
  {
   "cell_type": "code",
   "execution_count": 11,
   "metadata": {},
   "outputs": [],
   "source": [
    "def build_s3_movies_list():\n",
    "    s3 = boto3.resource('s3')\n",
    "    s3_movie_list = []\n",
    "    object_summary_iterator = s3.Bucket('manny-and-meche-plex').objects.all()\n",
    "    for i in object_summary_iterator:\n",
    "        if ('Movies/' in i.key) and (i.key!='Movies/'):\n",
    "            s3_movie_list.append(i.key[7:])\n",
    "    return s3_movie_list"
   ]
  },
  {
   "cell_type": "code",
   "execution_count": 12,
   "metadata": {},
   "outputs": [
    {
     "name": "stdout",
     "output_type": "stream",
     "text": [
      "Already have .DS_Store\n",
      "Already have Bohemian Rhapsody.m4v\n",
      "Added File The Grinch.m4v\n"
     ]
    }
   ],
   "source": [
    "# Add to S3 w/ Metadata\n",
    "for i in directory_list:\n",
    "    s3_movie_list = build_s3_movies_list()\n",
    "    ia = IMDb()\n",
    "    m = i[:-4]+' '+year\n",
    "    s_result = ia.search_movie(m)\n",
    "    entry = s_result[0]\n",
    "    ia.update(entry)\n",
    "    if (i not in s3_movie_list) and (i[0] != '.'):\n",
    "        s3 = boto3.client('s3')\n",
    "        s3.upload_file(filepath+i, \\\n",
    "                       'manny-and-meche-plex', \\\n",
    "                       'Movies/'+i,\n",
    "                        ExtraArgs={'StorageClass':'ONEZONE_IA',\n",
    "                                   'Metadata':{'movieID':entry.movieID,\n",
    "                                               'proper_movie_title':i[:-4]}})\n",
    "        print('Added File '+i)\n",
    "    else:\n",
    "        print('Already have '+i)"
   ]
  },
  {
   "cell_type": "code",
   "execution_count": null,
   "metadata": {},
   "outputs": [],
   "source": []
  },
  {
   "cell_type": "code",
   "execution_count": null,
   "metadata": {},
   "outputs": [],
   "source": []
  }
 ],
 "metadata": {
  "kernelspec": {
   "display_name": "Python 3",
   "language": "python",
   "name": "python3"
  },
  "language_info": {
   "codemirror_mode": {
    "name": "ipython",
    "version": 3
   },
   "file_extension": ".py",
   "mimetype": "text/x-python",
   "name": "python",
   "nbconvert_exporter": "python",
   "pygments_lexer": "ipython3",
   "version": "3.5.6"
  }
 },
 "nbformat": 4,
 "nbformat_minor": 2
}
